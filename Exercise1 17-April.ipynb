{
 "cells": [
  {
   "cell_type": "markdown",
   "id": "a34b94eb-ccf7-427a-9959-a70c203d452d",
   "metadata": {},
   "source": [
    "# Q5 from https://www.py4e.com/html3/08-lists"
   ]
  },
  {
   "cell_type": "code",
   "execution_count": 12,
   "id": "faffc14f-532b-4c3e-b064-cc330f1a52f0",
   "metadata": {},
   "outputs": [
    {
     "name": "stdout",
     "output_type": "stream",
     "text": [
      "46\n"
     ]
    }
   ],
   "source": [
    "count = 0\n",
    "list_address = []\n",
    "unique_address = []\n",
    "file = open('mbox.txt', 'r')\n",
    "for line in file:\n",
    "    if line.startswith('From '):\n",
    "        address = line.split()[1]\n",
    "        list_address.append(address)\n",
    "        if address not in unique_address:\n",
    "            unique_address.append(address)\n",
    "            count += 1\n",
    "print(count)"
   ]
  },
  {
   "cell_type": "code",
   "execution_count": 11,
   "id": "caf1677d-efef-4331-acf5-4a73b86a7d33",
   "metadata": {},
   "outputs": [
    {
     "name": "stdout",
     "output_type": "stream",
     "text": [
      "['stephen.marquard@uct.ac.za', 'louis@media.berkeley.edu', 'zqian@umich.edu', 'rjlowe@iupui.edu', 'cwen@iupui.edu', 'gsilver@umich.edu', 'wagnermr@iupui.edu', 'antranig@caret.cam.ac.uk', 'gopal.ramasammycook@gmail.com', 'david.horwitz@uct.ac.za', 'ray@media.berkeley.edu', 'mmmay@indiana.edu', 'stuart.freeman@et.gatech.edu', 'tnguyen@iupui.edu', 'chmaurer@iupui.edu', 'aaronz@vt.edu', 'ian@caret.cam.ac.uk', 'csev@umich.edu', 'jimeng@umich.edu', 'josrodri@iupui.edu', 'knoop@umich.edu', 'bkirschn@umich.edu', 'dlhaines@umich.edu', 'hu2@iupui.edu', 'sgithens@caret.cam.ac.uk', 'arwhyte@umich.edu', 'gbhatnag@umich.edu', 'gjthomas@iupui.edu', 'a.fish@lancaster.ac.uk', 'ajpoland@iupui.edu', 'lance@indiana.edu', 'ssmail@indiana.edu', 'jlrenfro@ucdavis.edu', 'nuno@ufp.pt', 'zach.thomas@txstate.edu', 'ktsao@stanford.edu', 'ostermmg@whitman.edu', 'john.ellis@rsmart.com', 'jleasia@umich.edu', 'ggolden@umich.edu', 'thoppaymallika@fhda.edu', 'kimsooil@bu.edu', 'bahollad@indiana.edu', 'jzaremba@unicon.net', 'mbreuker@loi.nl', 'colin.clark@utoronto.ca']\n"
     ]
    }
   ],
   "source": [
    "print(unique_address)"
   ]
  },
  {
   "cell_type": "code",
   "execution_count": 22,
   "id": "c2e4df8b-96b5-42de-b359-bcfc48164256",
   "metadata": {},
   "outputs": [
    {
     "name": "stdout",
     "output_type": "stream",
     "text": [
      "['stephen.marquard@uct.ac.za', 'louis@media.berkeley.edu', 'zqian@umich.edu', 'rjlowe@iupui.edu', 'zqian@umich.edu', 'rjlowe@iupui.edu', 'cwen@iupui.edu', 'cwen@iupui.edu', 'gsilver@umich.edu', 'gsilver@umich.edu', 'zqian@umich.edu', 'gsilver@umich.edu', 'wagnermr@iupui.edu', 'zqian@umich.edu', 'antranig@caret.cam.ac.uk', 'gopal.ramasammycook@gmail.com', 'david.horwitz@uct.ac.za', 'david.horwitz@uct.ac.za', 'david.horwitz@uct.ac.za', 'david.horwitz@uct.ac.za', 'stephen.marquard@uct.ac.za', 'louis@media.berkeley.edu', 'louis@media.berkeley.edu', 'ray@media.berkeley.edu', 'cwen@iupui.edu', 'cwen@iupui.edu', 'cwen@iupui.edu', 'ray@media.berkeley.edu', 'cwen@iupui.edu', 'zqian@umich.edu', 'cwen@iupui.edu', 'zqian@umich.edu', 'zqian@umich.edu', 'zqian@umich.edu', 'mmmay@indiana.edu', 'cwen@iupui.edu', 'zqian@umich.edu', 'zqian@umich.edu', 'zqian@umich.edu', 'cwen@iupui.edu', 'zqian@umich.edu', 'cwen@iupui.edu', 'ray@media.berkeley.edu', 'zqian@umich.edu', 'zqian@umich.edu', 'zqian@umich.edu', 'cwen@iupui.edu', 'zqian@umich.edu', 'gopal.ramasammycook@gmail.com', 'gsilver@umich.edu', 'gsilver@umich.edu', 'stuart.freeman@et.gatech.edu', 'zqian@umich.edu', 'gsilver@umich.edu', 'gsilver@umich.edu', 'gsilver@umich.edu', 'zqian@umich.edu', 'wagnermr@iupui.edu', 'stuart.freeman@et.gatech.edu', 'tnguyen@iupui.edu', 'stuart.freeman@et.gatech.edu', 'wagnermr@iupui.edu', 'gopal.ramasammycook@gmail.com', 'ray@media.berkeley.edu', 'ray@media.berkeley.edu', 'zqian@umich.edu', 'wagnermr@iupui.edu', 'stuart.freeman@et.gatech.edu', 'chmaurer@iupui.edu', 'stuart.freeman@et.gatech.edu', 'rjlowe@iupui.edu', 'zqian@umich.edu', 'rjlowe@iupui.edu', 'rjlowe@iupui.edu', 'zqian@umich.edu', 'rjlowe@iupui.edu', 'rjlowe@iupui.edu', 'rjlowe@iupui.edu', 'david.horwitz@uct.ac.za', 'david.horwitz@uct.ac.za', 'david.horwitz@uct.ac.za', 'david.horwitz@uct.ac.za', 'aaronz@vt.edu', 'david.horwitz@uct.ac.za', 'david.horwitz@uct.ac.za', 'david.horwitz@uct.ac.za', 'david.horwitz@uct.ac.za', 'david.horwitz@uct.ac.za', 'gopal.ramasammycook@gmail.com', 'david.horwitz@uct.ac.za', 'david.horwitz@uct.ac.za', 'david.horwitz@uct.ac.za', 'david.horwitz@uct.ac.za', 'david.horwitz@uct.ac.za', 'david.horwitz@uct.ac.za', 'david.horwitz@uct.ac.za', 'david.horwitz@uct.ac.za', 'ian@caret.cam.ac.uk', 'ian@caret.cam.ac.uk', 'zqian@umich.edu', 'zqian@umich.edu', 'zqian@umich.edu', 'zqian@umich.edu', 'zqian@umich.edu', 'rjlowe@iupui.edu', 'wagnermr@iupui.edu', 'csev@umich.edu', 'csev@umich.edu', 'csev@umich.edu', 'rjlowe@iupui.edu', 'jimeng@umich.edu', 'csev@umich.edu', 'csev@umich.edu', 'gsilver@umich.edu', 'ian@caret.cam.ac.uk', 'csev@umich.edu', 'csev@umich.edu', 'csev@umich.edu', 'josrodri@iupui.edu', 'josrodri@iupui.edu', 'csev@umich.edu', 'ian@caret.cam.ac.uk', 'csev@umich.edu', 'zqian@umich.edu', 'zqian@umich.edu', 'knoop@umich.edu', 'knoop@umich.edu', 'knoop@umich.edu', 'knoop@umich.edu', 'knoop@umich.edu', 'cwen@iupui.edu', 'jimeng@umich.edu', 'jimeng@umich.edu', 'csev@umich.edu', 'csev@umich.edu', 'csev@umich.edu', 'csev@umich.edu', 'csev@umich.edu', 'csev@umich.edu', 'jimeng@umich.edu', 'jimeng@umich.edu', 'bkirschn@umich.edu', 'jimeng@umich.edu', 'ian@caret.cam.ac.uk', 'stephen.marquard@uct.ac.za', 'stephen.marquard@uct.ac.za', 'ian@caret.cam.ac.uk', 'jimeng@umich.edu', 'jimeng@umich.edu', 'ray@media.berkeley.edu', 'ian@caret.cam.ac.uk', 'ian@caret.cam.ac.uk', 'stuart.freeman@et.gatech.edu', 'bkirschn@umich.edu', 'zqian@umich.edu', 'louis@media.berkeley.edu', 'dlhaines@umich.edu', 'bkirschn@umich.edu', 'dlhaines@umich.edu', 'dlhaines@umich.edu', 'zqian@umich.edu', 'bkirschn@umich.edu', 'cwen@iupui.edu', 'cwen@iupui.edu', 'bkirschn@umich.edu', 'bkirschn@umich.edu', 'david.horwitz@uct.ac.za', 'david.horwitz@uct.ac.za', 'david.horwitz@uct.ac.za', 'david.horwitz@uct.ac.za', 'david.horwitz@uct.ac.za', 'stephen.marquard@uct.ac.za', 'david.horwitz@uct.ac.za', 'bkirschn@umich.edu', 'cwen@iupui.edu', 'cwen@iupui.edu', 'cwen@iupui.edu', 'cwen@iupui.edu', 'david.horwitz@uct.ac.za', 'david.horwitz@uct.ac.za', 'david.horwitz@uct.ac.za', 'david.horwitz@uct.ac.za', 'david.horwitz@uct.ac.za', 'david.horwitz@uct.ac.za', 'david.horwitz@uct.ac.za', 'david.horwitz@uct.ac.za', 'david.horwitz@uct.ac.za', 'dlhaines@umich.edu', 'josrodri@iupui.edu', 'dlhaines@umich.edu', 'dlhaines@umich.edu', 'dlhaines@umich.edu', 'hu2@iupui.edu', 'louis@media.berkeley.edu', 'bkirschn@umich.edu', 'josrodri@iupui.edu', 'louis@media.berkeley.edu', 'zqian@umich.edu', 'cwen@iupui.edu', 'cwen@iupui.edu', 'cwen@iupui.edu', 'cwen@iupui.edu', 'josrodri@iupui.edu', 'cwen@iupui.edu', 'cwen@iupui.edu', 'hu2@iupui.edu', 'cwen@iupui.edu', 'tnguyen@iupui.edu', 'sgithens@caret.cam.ac.uk', 'arwhyte@umich.edu', 'rjlowe@iupui.edu', 'cwen@iupui.edu', 'cwen@iupui.edu', 'cwen@iupui.edu', 'zqian@umich.edu', 'david.horwitz@uct.ac.za', 'josrodri@iupui.edu', 'sgithens@caret.cam.ac.uk', 'sgithens@caret.cam.ac.uk', 'sgithens@caret.cam.ac.uk', 'sgithens@caret.cam.ac.uk', 'sgithens@caret.cam.ac.uk', 'sgithens@caret.cam.ac.uk', 'sgithens@caret.cam.ac.uk', 'sgithens@caret.cam.ac.uk', 'sgithens@caret.cam.ac.uk', 'sgithens@caret.cam.ac.uk', 'sgithens@caret.cam.ac.uk', 'sgithens@caret.cam.ac.uk', 'sgithens@caret.cam.ac.uk', 'sgithens@caret.cam.ac.uk', 'sgithens@caret.cam.ac.uk', 'sgithens@caret.cam.ac.uk', 'sgithens@caret.cam.ac.uk', 'david.horwitz@uct.ac.za', 'dlhaines@umich.edu', 'stephen.marquard@uct.ac.za', 'david.horwitz@uct.ac.za', 'david.horwitz@uct.ac.za', 'stephen.marquard@uct.ac.za', 'stephen.marquard@uct.ac.za', 'david.horwitz@uct.ac.za', 'david.horwitz@uct.ac.za', 'zqian@umich.edu', 'zqian@umich.edu', 'gbhatnag@umich.edu', 'dlhaines@umich.edu', 'jimeng@umich.edu', 'cwen@iupui.edu', 'cwen@iupui.edu', 'cwen@iupui.edu', 'cwen@iupui.edu', 'cwen@iupui.edu', 'ray@media.berkeley.edu', 'rjlowe@iupui.edu', 'jimeng@umich.edu', 'wagnermr@iupui.edu', 'cwen@iupui.edu', 'cwen@iupui.edu', 'wagnermr@iupui.edu', 'cwen@iupui.edu', 'gsilver@umich.edu', 'gsilver@umich.edu', 'gsilver@umich.edu', 'cwen@iupui.edu', 'cwen@iupui.edu', 'cwen@iupui.edu', 'stephen.marquard@uct.ac.za', 'gjthomas@iupui.edu', 'dlhaines@umich.edu', 'zqian@umich.edu', 'cwen@iupui.edu', 'jimeng@umich.edu', 'a.fish@lancaster.ac.uk', 'a.fish@lancaster.ac.uk', 'cwen@iupui.edu', 'gsilver@umich.edu', 'cwen@iupui.edu', 'stuart.freeman@et.gatech.edu', 'wagnermr@iupui.edu', 'stuart.freeman@et.gatech.edu', 'stephen.marquard@uct.ac.za', 'stephen.marquard@uct.ac.za', 'stephen.marquard@uct.ac.za', 'stephen.marquard@uct.ac.za', 'stephen.marquard@uct.ac.za', 'louis@media.berkeley.edu', 'gsilver@umich.edu', 'cwen@iupui.edu', 'cwen@iupui.edu', 'tnguyen@iupui.edu', 'cwen@iupui.edu', 'bkirschn@umich.edu', 'cwen@iupui.edu', 'chmaurer@iupui.edu', 'tnguyen@iupui.edu', 'cwen@iupui.edu', 'tnguyen@iupui.edu', 'cwen@iupui.edu', 'dlhaines@umich.edu', 'cwen@iupui.edu', 'jimeng@umich.edu', 'jimeng@umich.edu', 'cwen@iupui.edu', 'cwen@iupui.edu', 'ajpoland@iupui.edu', 'josrodri@iupui.edu', 'gjthomas@iupui.edu', 'gjthomas@iupui.edu', 'gjthomas@iupui.edu', 'gjthomas@iupui.edu', 'gjthomas@iupui.edu', 'dlhaines@umich.edu', 'gjthomas@iupui.edu', 'gjthomas@iupui.edu', 'gjthomas@iupui.edu', 'gjthomas@iupui.edu', 'gjthomas@iupui.edu', 'gjthomas@iupui.edu', 'gsilver@umich.edu', 'ian@caret.cam.ac.uk', 'cwen@iupui.edu', 'cwen@iupui.edu', 'lance@indiana.edu', 'lance@indiana.edu', 'dlhaines@umich.edu', 'lance@indiana.edu', 'chmaurer@iupui.edu', 'ian@caret.cam.ac.uk', 'lance@indiana.edu', 'lance@indiana.edu', 'cwen@iupui.edu', 'cwen@iupui.edu', 'cwen@iupui.edu', 'ajpoland@iupui.edu', 'cwen@iupui.edu', 'gjthomas@iupui.edu', 'gjthomas@iupui.edu', 'stephen.marquard@uct.ac.za', 'chmaurer@iupui.edu', 'chmaurer@iupui.edu', 'chmaurer@iupui.edu', 'stephen.marquard@uct.ac.za', 'stephen.marquard@uct.ac.za', 'stephen.marquard@uct.ac.za', 'stephen.marquard@uct.ac.za', 'stephen.marquard@uct.ac.za', 'stephen.marquard@uct.ac.za', 'stephen.marquard@uct.ac.za', 'stephen.marquard@uct.ac.za', 'stephen.marquard@uct.ac.za', 'stephen.marquard@uct.ac.za', 'stephen.marquard@uct.ac.za', 'stephen.marquard@uct.ac.za', 'ian@caret.cam.ac.uk', 'rjlowe@iupui.edu', 'wagnermr@iupui.edu', 'arwhyte@umich.edu', 'arwhyte@umich.edu', 'louis@media.berkeley.edu', 'ian@caret.cam.ac.uk', 'wagnermr@iupui.edu', 'wagnermr@iupui.edu', 'gsilver@umich.edu', 'wagnermr@iupui.edu', 'zqian@umich.edu', 'wagnermr@iupui.edu', 'stuart.freeman@et.gatech.edu', 'cwen@iupui.edu', 'mmmay@indiana.edu', 'mmmay@indiana.edu', 'ssmail@indiana.edu', 'cwen@iupui.edu', 'mmmay@indiana.edu', 'mmmay@indiana.edu', 'cwen@iupui.edu', 'wagnermr@iupui.edu', 'rjlowe@iupui.edu', 'dlhaines@umich.edu', 'jlrenfro@ucdavis.edu', 'cwen@iupui.edu', 'zqian@umich.edu', 'arwhyte@umich.edu', 'cwen@iupui.edu', 'cwen@iupui.edu', 'nuno@ufp.pt', 'wagnermr@iupui.edu', 'ian@caret.cam.ac.uk', 'ian@caret.cam.ac.uk', 'ian@caret.cam.ac.uk', 'ian@caret.cam.ac.uk', 'nuno@ufp.pt', 'ian@caret.cam.ac.uk', 'ian@caret.cam.ac.uk', 'cwen@iupui.edu', 'cwen@iupui.edu', 'arwhyte@umich.edu', 'arwhyte@umich.edu', 'rjlowe@iupui.edu', 'wagnermr@iupui.edu', 'gjthomas@iupui.edu', 'nuno@ufp.pt', 'wagnermr@iupui.edu', 'cwen@iupui.edu', 'ian@caret.cam.ac.uk', 'cwen@iupui.edu', 'cwen@iupui.edu', 'ian@caret.cam.ac.uk', 'ian@caret.cam.ac.uk', 'sgithens@caret.cam.ac.uk', 'arwhyte@umich.edu', 'arwhyte@umich.edu', 'zach.thomas@txstate.edu', 'zach.thomas@txstate.edu', 'zach.thomas@txstate.edu', 'zach.thomas@txstate.edu', 'zach.thomas@txstate.edu', 'zach.thomas@txstate.edu', 'zach.thomas@txstate.edu', 'zach.thomas@txstate.edu', 'jimeng@umich.edu', 'jimeng@umich.edu', 'arwhyte@umich.edu', 'josrodri@iupui.edu', 'arwhyte@umich.edu', 'josrodri@iupui.edu', 'stephen.marquard@uct.ac.za', 'stephen.marquard@uct.ac.za', 'gjthomas@iupui.edu', 'cwen@iupui.edu', 'cwen@iupui.edu', 'cwen@iupui.edu', 'cwen@iupui.edu', 'gjthomas@iupui.edu', 'cwen@iupui.edu', 'cwen@iupui.edu', 'cwen@iupui.edu', 'cwen@iupui.edu', 'cwen@iupui.edu', 'cwen@iupui.edu', 'cwen@iupui.edu', 'cwen@iupui.edu', 'cwen@iupui.edu', 'cwen@iupui.edu', 'cwen@iupui.edu', 'cwen@iupui.edu', 'ian@caret.cam.ac.uk', 'cwen@iupui.edu', 'tnguyen@iupui.edu', 'cwen@iupui.edu', 'cwen@iupui.edu', 'cwen@iupui.edu', 'ian@caret.cam.ac.uk', 'cwen@iupui.edu', 'ian@caret.cam.ac.uk', 'ian@caret.cam.ac.uk', 'mmmay@indiana.edu', 'louis@media.berkeley.edu', 'louis@media.berkeley.edu', 'louis@media.berkeley.edu', 'cwen@iupui.edu', 'louis@media.berkeley.edu', 'louis@media.berkeley.edu', 'cwen@iupui.edu', 'cwen@iupui.edu', 'louis@media.berkeley.edu', 'louis@media.berkeley.edu', 'louis@media.berkeley.edu', 'louis@media.berkeley.edu', 'cwen@iupui.edu', 'bkirschn@umich.edu', 'ian@caret.cam.ac.uk', 'cwen@iupui.edu', 'cwen@iupui.edu', 'cwen@iupui.edu', 'cwen@iupui.edu', 'cwen@iupui.edu', 'cwen@iupui.edu', 'cwen@iupui.edu', 'dlhaines@umich.edu', 'zqian@umich.edu', 'mmmay@indiana.edu', 'cwen@iupui.edu', 'mmmay@indiana.edu', 'cwen@iupui.edu', 'cwen@iupui.edu', 'lance@indiana.edu', 'cwen@iupui.edu', 'cwen@iupui.edu', 'cwen@iupui.edu', 'cwen@iupui.edu', 'cwen@iupui.edu', 'josrodri@iupui.edu', 'cwen@iupui.edu', 'cwen@iupui.edu', 'cwen@iupui.edu', 'cwen@iupui.edu', 'cwen@iupui.edu', 'cwen@iupui.edu', 'cwen@iupui.edu', 'cwen@iupui.edu', 'cwen@iupui.edu', 'cwen@iupui.edu', 'cwen@iupui.edu', 'cwen@iupui.edu', 'cwen@iupui.edu', 'cwen@iupui.edu', 'david.horwitz@uct.ac.za', 'rjlowe@iupui.edu', 'sgithens@caret.cam.ac.uk', 'louis@media.berkeley.edu', 'louis@media.berkeley.edu', 'ktsao@stanford.edu', 'ray@media.berkeley.edu', 'ian@caret.cam.ac.uk', 'ian@caret.cam.ac.uk', 'ian@caret.cam.ac.uk', 'ian@caret.cam.ac.uk', 'cwen@iupui.edu', 'arwhyte@umich.edu', 'arwhyte@umich.edu', 'ostermmg@whitman.edu', 'zqian@umich.edu', 'zqian@umich.edu', 'mmmay@indiana.edu', 'mmmay@indiana.edu', 'gsilver@umich.edu', 'gsilver@umich.edu', 'mmmay@indiana.edu', 'mmmay@indiana.edu', 'zqian@umich.edu', 'zqian@umich.edu', 'mmmay@indiana.edu', 'zqian@umich.edu', 'dlhaines@umich.edu', 'gopal.ramasammycook@gmail.com', 'jimeng@umich.edu', 'josrodri@iupui.edu', 'nuno@ufp.pt', 'nuno@ufp.pt', 'nuno@ufp.pt', 'nuno@ufp.pt', 'nuno@ufp.pt', 'nuno@ufp.pt', 'nuno@ufp.pt', 'nuno@ufp.pt', 'nuno@ufp.pt', 'nuno@ufp.pt', 'nuno@ufp.pt', 'nuno@ufp.pt', 'nuno@ufp.pt', 'nuno@ufp.pt', 'nuno@ufp.pt', 'nuno@ufp.pt', 'nuno@ufp.pt', 'nuno@ufp.pt', 'nuno@ufp.pt', 'nuno@ufp.pt', 'nuno@ufp.pt', 'wagnermr@iupui.edu', 'cwen@iupui.edu', 'ian@caret.cam.ac.uk', 'ian@caret.cam.ac.uk', 'gopal.ramasammycook@gmail.com', 'stuart.freeman@et.gatech.edu', 'cwen@iupui.edu', 'ian@caret.cam.ac.uk', 'ian@caret.cam.ac.uk', 'mmmay@indiana.edu', 'mmmay@indiana.edu', 'mmmay@indiana.edu', 'mmmay@indiana.edu', 'mmmay@indiana.edu', 'mmmay@indiana.edu', 'mmmay@indiana.edu', 'mmmay@indiana.edu', 'mmmay@indiana.edu', 'mmmay@indiana.edu', 'gjthomas@iupui.edu', 'gjthomas@iupui.edu', 'dlhaines@umich.edu', 'dlhaines@umich.edu', 'chmaurer@iupui.edu', 'zqian@umich.edu', 'jimeng@umich.edu', 'gjthomas@iupui.edu', 'gjthomas@iupui.edu', 'jimeng@umich.edu', 'zqian@umich.edu', 'cwen@iupui.edu', 'arwhyte@umich.edu', 'chmaurer@iupui.edu', 'cwen@iupui.edu', 'chmaurer@iupui.edu', 'chmaurer@iupui.edu', 'gjthomas@iupui.edu', 'dlhaines@umich.edu', 'dlhaines@umich.edu', 'josrodri@iupui.edu', 'dlhaines@umich.edu', 'jimeng@umich.edu', 'dlhaines@umich.edu', 'jimeng@umich.edu', 'ray@media.berkeley.edu', 'chmaurer@iupui.edu', 'cwen@iupui.edu', 'wagnermr@iupui.edu', 'cwen@iupui.edu', 'ssmail@indiana.edu', 'chmaurer@iupui.edu', 'chmaurer@iupui.edu', 'chmaurer@iupui.edu', 'josrodri@iupui.edu', 'sgithens@caret.cam.ac.uk', 'jimeng@umich.edu', 'jimeng@umich.edu', 'ktsao@stanford.edu', 'ray@media.berkeley.edu', 'ray@media.berkeley.edu', 'jimeng@umich.edu', 'louis@media.berkeley.edu', 'ktsao@stanford.edu', 'gbhatnag@umich.edu', 'ktsao@stanford.edu', 'chmaurer@iupui.edu', 'chmaurer@iupui.edu', 'chmaurer@iupui.edu', 'chmaurer@iupui.edu', 'chmaurer@iupui.edu', 'gbhatnag@umich.edu', 'dlhaines@umich.edu', 'chmaurer@iupui.edu', 'cwen@iupui.edu', 'cwen@iupui.edu', 'josrodri@iupui.edu', 'josrodri@iupui.edu', 'dlhaines@umich.edu', 'zqian@umich.edu', 'zqian@umich.edu', 'wagnermr@iupui.edu', 'chmaurer@iupui.edu', 'chmaurer@iupui.edu', 'gjthomas@iupui.edu', 'gjthomas@iupui.edu', 'gjthomas@iupui.edu', 'aaronz@vt.edu', 'jimeng@umich.edu', 'jimeng@umich.edu', 'jimeng@umich.edu', 'jimeng@umich.edu', 'wagnermr@iupui.edu', 'gjthomas@iupui.edu', 'rjlowe@iupui.edu', 'rjlowe@iupui.edu', 'aaronz@vt.edu', 'gjthomas@iupui.edu', 'zqian@umich.edu', 'josrodri@iupui.edu', 'jimeng@umich.edu', 'jimeng@umich.edu', 'jimeng@umich.edu', 'ian@caret.cam.ac.uk', 'ian@caret.cam.ac.uk', 'zqian@umich.edu', 'zqian@umich.edu', 'zqian@umich.edu', 'zqian@umich.edu', 'zqian@umich.edu', 'chmaurer@iupui.edu', 'mmmay@indiana.edu', 'chmaurer@iupui.edu', 'mmmay@indiana.edu', 'zqian@umich.edu', 'zqian@umich.edu', 'zqian@umich.edu', 'chmaurer@iupui.edu', 'mmmay@indiana.edu', 'mmmay@indiana.edu', 'chmaurer@iupui.edu', 'zqian@umich.edu', 'mmmay@indiana.edu', 'zqian@umich.edu', 'zqian@umich.edu', 'zqian@umich.edu', 'zqian@umich.edu', 'zqian@umich.edu', 'zqian@umich.edu', 'zqian@umich.edu', 'zqian@umich.edu', 'zqian@umich.edu', 'zqian@umich.edu', 'zqian@umich.edu', 'zqian@umich.edu', 'zqian@umich.edu', 'zqian@umich.edu', 'zqian@umich.edu', 'zqian@umich.edu', 'chmaurer@iupui.edu', 'chmaurer@iupui.edu', 'zqian@umich.edu', 'zqian@umich.edu', 'zqian@umich.edu', 'ian@caret.cam.ac.uk', 'zqian@umich.edu', 'zqian@umich.edu', 'josrodri@iupui.edu', 'chmaurer@iupui.edu', 'chmaurer@iupui.edu', 'zqian@umich.edu', 'zqian@umich.edu', 'zqian@umich.edu', 'chmaurer@iupui.edu', 'chmaurer@iupui.edu', 'ray@media.berkeley.edu', 'chmaurer@iupui.edu', 'gopal.ramasammycook@gmail.com', 'david.horwitz@uct.ac.za', 'david.horwitz@uct.ac.za', 'rjlowe@iupui.edu', 'ian@caret.cam.ac.uk', 'gjthomas@iupui.edu', 'gjthomas@iupui.edu', 'gjthomas@iupui.edu', 'zqian@umich.edu', 'zqian@umich.edu', 'zqian@umich.edu', 'zqian@umich.edu', 'zqian@umich.edu', 'chmaurer@iupui.edu', 'zqian@umich.edu', 'zqian@umich.edu', 'chmaurer@iupui.edu', 'chmaurer@iupui.edu', 'chmaurer@iupui.edu', 'chmaurer@iupui.edu', 'chmaurer@iupui.edu', 'chmaurer@iupui.edu', 'chmaurer@iupui.edu', 'chmaurer@iupui.edu', 'chmaurer@iupui.edu', 'chmaurer@iupui.edu', 'aaronz@vt.edu', 'gjthomas@iupui.edu', 'gjthomas@iupui.edu', 'gjthomas@iupui.edu', 'zqian@umich.edu', 'zqian@umich.edu', 'zqian@umich.edu', 'chmaurer@iupui.edu', 'zqian@umich.edu', 'zqian@umich.edu', 'zqian@umich.edu', 'zqian@umich.edu', 'chmaurer@iupui.edu', 'gopal.ramasammycook@gmail.com', 'david.horwitz@uct.ac.za', 'david.horwitz@uct.ac.za', 'chmaurer@iupui.edu', 'ian@caret.cam.ac.uk', 'zqian@umich.edu', 'a.fish@lancaster.ac.uk', 'a.fish@lancaster.ac.uk', 'a.fish@lancaster.ac.uk', 'a.fish@lancaster.ac.uk', 'jimeng@umich.edu', 'chmaurer@iupui.edu', 'wagnermr@iupui.edu', 'josrodri@iupui.edu', 'aaronz@vt.edu', 'aaronz@vt.edu', 'josrodri@iupui.edu', 'chmaurer@iupui.edu', 'chmaurer@iupui.edu', 'chmaurer@iupui.edu', 'gopal.ramasammycook@gmail.com', 'ostermmg@whitman.edu', 'ostermmg@whitman.edu', 'ian@caret.cam.ac.uk', 'jimeng@umich.edu', 'chmaurer@iupui.edu', 'zqian@umich.edu', 'zqian@umich.edu', 'chmaurer@iupui.edu', 'chmaurer@iupui.edu', 'chmaurer@iupui.edu', 'chmaurer@iupui.edu', 'david.horwitz@uct.ac.za', 'gopal.ramasammycook@gmail.com', 'chmaurer@iupui.edu', 'chmaurer@iupui.edu', 'gopal.ramasammycook@gmail.com', 'a.fish@lancaster.ac.uk', 'stuart.freeman@et.gatech.edu', 'stuart.freeman@et.gatech.edu', 'stuart.freeman@et.gatech.edu', 'sgithens@caret.cam.ac.uk', 'sgithens@caret.cam.ac.uk', 'aaronz@vt.edu', 'aaronz@vt.edu', 'aaronz@vt.edu', 'aaronz@vt.edu', 'aaronz@vt.edu', 'aaronz@vt.edu', 'ian@caret.cam.ac.uk', 'sgithens@caret.cam.ac.uk', 'sgithens@caret.cam.ac.uk', 'zqian@umich.edu', 'zqian@umich.edu', 'zqian@umich.edu', 'gjthomas@iupui.edu', 'gjthomas@iupui.edu', 'chmaurer@iupui.edu', 'chmaurer@iupui.edu', 'cwen@iupui.edu', 'chmaurer@iupui.edu', 'chmaurer@iupui.edu', 'cwen@iupui.edu', 'gjthomas@iupui.edu', 'gjthomas@iupui.edu', 'cwen@iupui.edu', 'chmaurer@iupui.edu', 'chmaurer@iupui.edu', 'chmaurer@iupui.edu', 'chmaurer@iupui.edu', 'david.horwitz@uct.ac.za', 'cwen@iupui.edu', 'cwen@iupui.edu', 'cwen@iupui.edu', 'chmaurer@iupui.edu', 'chmaurer@iupui.edu', 'gopal.ramasammycook@gmail.com', 'cwen@iupui.edu', 'cwen@iupui.edu', 'chmaurer@iupui.edu', 'chmaurer@iupui.edu', 'chmaurer@iupui.edu', 'jimeng@umich.edu', 'jimeng@umich.edu', 'jimeng@umich.edu', 'jimeng@umich.edu', 'jimeng@umich.edu', 'ian@caret.cam.ac.uk', 'ian@caret.cam.ac.uk', 'ian@caret.cam.ac.uk', 'jimeng@umich.edu', 'mmmay@indiana.edu', 'jimeng@umich.edu', 'mmmay@indiana.edu', 'mmmay@indiana.edu', 'wagnermr@iupui.edu', 'mmmay@indiana.edu', 'chmaurer@iupui.edu', 'chmaurer@iupui.edu', 'mmmay@indiana.edu', 'mmmay@indiana.edu', 'mmmay@indiana.edu', 'cwen@iupui.edu', 'chmaurer@iupui.edu', 'zqian@umich.edu', 'chmaurer@iupui.edu', 'cwen@iupui.edu', 'cwen@iupui.edu', 'chmaurer@iupui.edu', 'dlhaines@umich.edu', 'dlhaines@umich.edu', 'zqian@umich.edu', 'dlhaines@umich.edu', 'zqian@umich.edu', 'zqian@umich.edu', 'john.ellis@rsmart.com', 'chmaurer@iupui.edu', 'chmaurer@iupui.edu', 'chmaurer@iupui.edu', 'chmaurer@iupui.edu', 'chmaurer@iupui.edu', 'chmaurer@iupui.edu', 'chmaurer@iupui.edu', 'chmaurer@iupui.edu', 'chmaurer@iupui.edu', 'stuart.freeman@et.gatech.edu', 'stuart.freeman@et.gatech.edu', 'zqian@umich.edu', 'jleasia@umich.edu', 'chmaurer@iupui.edu', 'chmaurer@iupui.edu', 'chmaurer@iupui.edu', 'gopal.ramasammycook@gmail.com', 'dlhaines@umich.edu', 'sgithens@caret.cam.ac.uk', 'dlhaines@umich.edu', 'aaronz@vt.edu', 'dlhaines@umich.edu', 'dlhaines@umich.edu', 'cwen@iupui.edu', 'dlhaines@umich.edu', 'zqian@umich.edu', 'dlhaines@umich.edu', 'antranig@caret.cam.ac.uk', 'ian@caret.cam.ac.uk', 'zach.thomas@txstate.edu', 'dlhaines@umich.edu', 'aaronz@vt.edu', 'jimeng@umich.edu', 'jimeng@umich.edu', 'jimeng@umich.edu', 'jimeng@umich.edu', 'jimeng@umich.edu', 'jimeng@umich.edu', 'jimeng@umich.edu', 'jimeng@umich.edu', 'aaronz@vt.edu', 'ssmail@indiana.edu', 'zqian@umich.edu', 'aaronz@vt.edu', 'ian@caret.cam.ac.uk', 'ian@caret.cam.ac.uk', 'ian@caret.cam.ac.uk', 'ian@caret.cam.ac.uk', 'sgithens@caret.cam.ac.uk', 'ian@caret.cam.ac.uk', 'ian@caret.cam.ac.uk', 'ssmail@indiana.edu', 'zqian@umich.edu', 'stuart.freeman@et.gatech.edu', 'dlhaines@umich.edu', 'dlhaines@umich.edu', 'stuart.freeman@et.gatech.edu', 'chmaurer@iupui.edu', 'chmaurer@iupui.edu', 'cwen@iupui.edu', 'cwen@iupui.edu', 'cwen@iupui.edu', 'ian@caret.cam.ac.uk', 'dlhaines@umich.edu', 'zqian@umich.edu', 'zqian@umich.edu', 'zqian@umich.edu', 'gopal.ramasammycook@gmail.com', 'dlhaines@umich.edu', 'zqian@umich.edu', 'ian@caret.cam.ac.uk', 'aaronz@vt.edu', 'john.ellis@rsmart.com', 'john.ellis@rsmart.com', 'aaronz@vt.edu', 'cwen@iupui.edu', 'zqian@umich.edu', 'wagnermr@iupui.edu', 'aaronz@vt.edu', 'wagnermr@iupui.edu', 'gopal.ramasammycook@gmail.com', 'lance@indiana.edu', 'sgithens@caret.cam.ac.uk', 'ggolden@umich.edu', 'ggolden@umich.edu', 'cwen@iupui.edu', 'ggolden@umich.edu', 'ggolden@umich.edu', 'ggolden@umich.edu', 'ggolden@umich.edu', 'david.horwitz@uct.ac.za', 'antranig@caret.cam.ac.uk', 'ian@caret.cam.ac.uk', 'ian@caret.cam.ac.uk', 'ian@caret.cam.ac.uk', 'antranig@caret.cam.ac.uk', 'ian@caret.cam.ac.uk', 'ian@caret.cam.ac.uk', 'ian@caret.cam.ac.uk', 'david.horwitz@uct.ac.za', 'ian@caret.cam.ac.uk', 'aaronz@vt.edu', 'aaronz@vt.edu', 'rjlowe@iupui.edu', 'rjlowe@iupui.edu', 'rjlowe@iupui.edu', 'ian@caret.cam.ac.uk', 'gopal.ramasammycook@gmail.com', 'ian@caret.cam.ac.uk', 'david.horwitz@uct.ac.za', 'gopal.ramasammycook@gmail.com', 'antranig@caret.cam.ac.uk', 'arwhyte@umich.edu', 'arwhyte@umich.edu', 'arwhyte@umich.edu', 'ian@caret.cam.ac.uk', 'ian@caret.cam.ac.uk', 'ray@media.berkeley.edu', 'ktsao@stanford.edu', 'sgithens@caret.cam.ac.uk', 'zqian@umich.edu', 'cwen@iupui.edu', 'antranig@caret.cam.ac.uk', 'zqian@umich.edu', 'jimeng@umich.edu', 'jimeng@umich.edu', 'antranig@caret.cam.ac.uk', 'antranig@caret.cam.ac.uk', 'ssmail@indiana.edu', 'ian@caret.cam.ac.uk', 'ian@caret.cam.ac.uk', 'zqian@umich.edu', 'ian@caret.cam.ac.uk', 'aaronz@vt.edu', 'zqian@umich.edu', 'ian@caret.cam.ac.uk', 'aaronz@vt.edu', 'mmmay@indiana.edu', 'gopal.ramasammycook@gmail.com', 'aaronz@vt.edu', 'mmmay@indiana.edu', 'mmmay@indiana.edu', 'mmmay@indiana.edu', 'ian@caret.cam.ac.uk', 'mmmay@indiana.edu', 'jimeng@umich.edu', 'mmmay@indiana.edu', 'mmmay@indiana.edu', 'mmmay@indiana.edu', 'mmmay@indiana.edu', 'mmmay@indiana.edu', 'mmmay@indiana.edu', 'mmmay@indiana.edu', 'mmmay@indiana.edu', 'mmmay@indiana.edu', 'mmmay@indiana.edu', 'mmmay@indiana.edu', 'lance@indiana.edu', 'sgithens@caret.cam.ac.uk', 'aaronz@vt.edu', 'rjlowe@iupui.edu', 'rjlowe@iupui.edu', 'rjlowe@iupui.edu', 'rjlowe@iupui.edu', 'rjlowe@iupui.edu', 'rjlowe@iupui.edu', 'rjlowe@iupui.edu', 'rjlowe@iupui.edu', 'rjlowe@iupui.edu', 'rjlowe@iupui.edu', 'rjlowe@iupui.edu', 'rjlowe@iupui.edu', 'rjlowe@iupui.edu', 'rjlowe@iupui.edu', 'rjlowe@iupui.edu', 'rjlowe@iupui.edu', 'rjlowe@iupui.edu', 'rjlowe@iupui.edu', 'jimeng@umich.edu', 'jimeng@umich.edu', 'jimeng@umich.edu', 'jimeng@umich.edu', 'jimeng@umich.edu', 'jimeng@umich.edu', 'jimeng@umich.edu', 'jimeng@umich.edu', 'jimeng@umich.edu', 'jimeng@umich.edu', 'john.ellis@rsmart.com', 'mmmay@indiana.edu', 'mmmay@indiana.edu', 'mmmay@indiana.edu', 'mmmay@indiana.edu', 'ktsao@stanford.edu', 'jimeng@umich.edu', 'jimeng@umich.edu', 'jimeng@umich.edu', 'cwen@iupui.edu', 'mmmay@indiana.edu', 'zqian@umich.edu', 'mmmay@indiana.edu', 'mmmay@indiana.edu', 'mmmay@indiana.edu', 'mmmay@indiana.edu', 'mmmay@indiana.edu', 'mmmay@indiana.edu', 'mmmay@indiana.edu', 'mmmay@indiana.edu', 'mmmay@indiana.edu', 'thoppaymallika@fhda.edu', 'chmaurer@iupui.edu', 'mmmay@indiana.edu', 'mmmay@indiana.edu', 'mmmay@indiana.edu', 'mmmay@indiana.edu', 'mmmay@indiana.edu', 'mmmay@indiana.edu', 'mmmay@indiana.edu', 'mmmay@indiana.edu', 'chmaurer@iupui.edu', 'sgithens@caret.cam.ac.uk', 'chmaurer@iupui.edu', 'gsilver@umich.edu', 'zqian@umich.edu', 'chmaurer@iupui.edu', 'chmaurer@iupui.edu', 'chmaurer@iupui.edu', 'aaronz@vt.edu', 'aaronz@vt.edu', 'sgithens@caret.cam.ac.uk', 'david.horwitz@uct.ac.za', 'zqian@umich.edu', 'sgithens@caret.cam.ac.uk', 'ajpoland@iupui.edu', 'cwen@iupui.edu', 'gsilver@umich.edu', 'sgithens@caret.cam.ac.uk', 'jimeng@umich.edu', 'zqian@umich.edu', 'sgithens@caret.cam.ac.uk', 'sgithens@caret.cam.ac.uk', 'aaronz@vt.edu', 'aaronz@vt.edu', 'ian@caret.cam.ac.uk', 'ian@caret.cam.ac.uk', 'bkirschn@umich.edu', 'antranig@caret.cam.ac.uk', 'antranig@caret.cam.ac.uk', 'zqian@umich.edu', 'jimeng@umich.edu', 'jimeng@umich.edu', 'jimeng@umich.edu', 'gopal.ramasammycook@gmail.com', 'zqian@umich.edu', 'jimeng@umich.edu', 'jimeng@umich.edu', 'jimeng@umich.edu', 'jimeng@umich.edu', 'jimeng@umich.edu', 'jimeng@umich.edu', 'jimeng@umich.edu', 'jimeng@umich.edu', 'john.ellis@rsmart.com', 'ajpoland@iupui.edu', 'chmaurer@iupui.edu', 'antranig@caret.cam.ac.uk', 'antranig@caret.cam.ac.uk', 'rjlowe@iupui.edu', 'rjlowe@iupui.edu', 'rjlowe@iupui.edu', 'rjlowe@iupui.edu', 'rjlowe@iupui.edu', 'rjlowe@iupui.edu', 'rjlowe@iupui.edu', 'rjlowe@iupui.edu', 'rjlowe@iupui.edu', 'rjlowe@iupui.edu', 'rjlowe@iupui.edu', 'rjlowe@iupui.edu', 'zqian@umich.edu', 'antranig@caret.cam.ac.uk', 'zqian@umich.edu', 'rjlowe@iupui.edu', 'zqian@umich.edu', 'zqian@umich.edu', 'rjlowe@iupui.edu', 'gopal.ramasammycook@gmail.com', 'zqian@umich.edu', 'kimsooil@bu.edu', 'kimsooil@bu.edu', 'kimsooil@bu.edu', 'zqian@umich.edu', 'ostermmg@whitman.edu', 'jimeng@umich.edu', 'jimeng@umich.edu', 'jimeng@umich.edu', 'jimeng@umich.edu', 'jimeng@umich.edu', 'jimeng@umich.edu', 'zqian@umich.edu', 'jimeng@umich.edu', 'jimeng@umich.edu', 'jimeng@umich.edu', 'jimeng@umich.edu', 'ray@media.berkeley.edu', 'ostermmg@whitman.edu', 'josrodri@iupui.edu', 'ostermmg@whitman.edu', 'ostermmg@whitman.edu', 'ostermmg@whitman.edu', 'rjlowe@iupui.edu', 'antranig@caret.cam.ac.uk', 'antranig@caret.cam.ac.uk', 'josrodri@iupui.edu', 'zqian@umich.edu', 'rjlowe@iupui.edu', 'ian@caret.cam.ac.uk', 'antranig@caret.cam.ac.uk', 'zqian@umich.edu', 'wagnermr@iupui.edu', 'gsilver@umich.edu', 'gopal.ramasammycook@gmail.com', 'ajpoland@iupui.edu', 'wagnermr@iupui.edu', 'wagnermr@iupui.edu', 'aaronz@vt.edu', 'aaronz@vt.edu', 'ajpoland@iupui.edu', 'wagnermr@iupui.edu', 'wagnermr@iupui.edu', 'david.horwitz@uct.ac.za', 'ray@media.berkeley.edu', 'ostermmg@whitman.edu', 'ostermmg@whitman.edu', 'ostermmg@whitman.edu', 'ostermmg@whitman.edu', 'ostermmg@whitman.edu', 'ajpoland@iupui.edu', 'ostermmg@whitman.edu', 'cwen@iupui.edu', 'jimeng@umich.edu', 'josrodri@iupui.edu', 'zqian@umich.edu', 'zqian@umich.edu', 'zqian@umich.edu', 'aaronz@vt.edu', 'aaronz@vt.edu', 'wagnermr@iupui.edu', 'hu2@iupui.edu', 'josrodri@iupui.edu', 'wagnermr@iupui.edu', 'rjlowe@iupui.edu', 'zqian@umich.edu', 'zqian@umich.edu', 'gopal.ramasammycook@gmail.com', 'david.horwitz@uct.ac.za', 'david.horwitz@uct.ac.za', 'david.horwitz@uct.ac.za', 'david.horwitz@uct.ac.za', 'ian@caret.cam.ac.uk', 'ajpoland@iupui.edu', 'aaronz@vt.edu', 'aaronz@vt.edu', 'aaronz@vt.edu', 'jimeng@umich.edu', 'aaronz@vt.edu', 'aaronz@vt.edu', 'aaronz@vt.edu', 'rjlowe@iupui.edu', 'jimeng@umich.edu', 'sgithens@caret.cam.ac.uk', 'sgithens@caret.cam.ac.uk', 'aaronz@vt.edu', 'aaronz@vt.edu', 'aaronz@vt.edu', 'aaronz@vt.edu', 'aaronz@vt.edu', 'aaronz@vt.edu', 'aaronz@vt.edu', 'rjlowe@iupui.edu', 'rjlowe@iupui.edu', 'rjlowe@iupui.edu', 'ray@media.berkeley.edu', 'ajpoland@iupui.edu', 'rjlowe@iupui.edu', 'ajpoland@iupui.edu', 'rjlowe@iupui.edu', 'rjlowe@iupui.edu', 'rjlowe@iupui.edu', 'cwen@iupui.edu', 'bkirschn@umich.edu', 'gsilver@umich.edu', 'john.ellis@rsmart.com', 'aaronz@vt.edu', 'bkirschn@umich.edu', 'gopal.ramasammycook@gmail.com', 'chmaurer@iupui.edu', 'chmaurer@iupui.edu', 'chmaurer@iupui.edu', 'dlhaines@umich.edu', 'dlhaines@umich.edu', 'ajpoland@iupui.edu', 'aaronz@vt.edu', 'sgithens@caret.cam.ac.uk', 'aaronz@vt.edu', 'jimeng@umich.edu', 'ostermmg@whitman.edu', 'ostermmg@whitman.edu', 'jimeng@umich.edu', 'aaronz@vt.edu', 'aaronz@vt.edu', 'dlhaines@umich.edu', 'dlhaines@umich.edu', 'dlhaines@umich.edu', 'dlhaines@umich.edu', 'dlhaines@umich.edu', 'sgithens@caret.cam.ac.uk', 'dlhaines@umich.edu', 'dlhaines@umich.edu', 'gopal.ramasammycook@gmail.com', 'zqian@umich.edu', 'chmaurer@iupui.edu', 'chmaurer@iupui.edu', 'dlhaines@umich.edu', 'wagnermr@iupui.edu', 'aaronz@vt.edu', 'chmaurer@iupui.edu', 'chmaurer@iupui.edu', 'wagnermr@iupui.edu', 'ian@caret.cam.ac.uk', 'aaronz@vt.edu', 'aaronz@vt.edu', 'ian@caret.cam.ac.uk', 'aaronz@vt.edu', 'aaronz@vt.edu', 'aaronz@vt.edu', 'zqian@umich.edu', 'aaronz@vt.edu', 'aaronz@vt.edu', 'aaronz@vt.edu', 'kimsooil@bu.edu', 'kimsooil@bu.edu', 'aaronz@vt.edu', 'nuno@ufp.pt', 'arwhyte@umich.edu', 'dlhaines@umich.edu', 'dlhaines@umich.edu', 'ajpoland@iupui.edu', 'mmmay@indiana.edu', 'zqian@umich.edu', 'mmmay@indiana.edu', 'ajpoland@iupui.edu', 'rjlowe@iupui.edu', 'rjlowe@iupui.edu', 'aaronz@vt.edu', 'aaronz@vt.edu', 'aaronz@vt.edu', 'ajpoland@iupui.edu', 'wagnermr@iupui.edu', 'aaronz@vt.edu', 'aaronz@vt.edu', 'aaronz@vt.edu', 'aaronz@vt.edu', 'aaronz@vt.edu', 'aaronz@vt.edu', 'aaronz@vt.edu', 'aaronz@vt.edu', 'aaronz@vt.edu', 'sgithens@caret.cam.ac.uk', 'ian@caret.cam.ac.uk', 'mmmay@indiana.edu', 'mmmay@indiana.edu', 'mmmay@indiana.edu', 'josrodri@iupui.edu', 'josrodri@iupui.edu', 'mmmay@indiana.edu', 'mmmay@indiana.edu', 'mmmay@indiana.edu', 'mmmay@indiana.edu', 'dlhaines@umich.edu', 'dlhaines@umich.edu', 'josrodri@iupui.edu', 'zqian@umich.edu', 'arwhyte@umich.edu', 'rjlowe@iupui.edu', 'dlhaines@umich.edu', 'arwhyte@umich.edu', 'arwhyte@umich.edu', 'arwhyte@umich.edu', 'arwhyte@umich.edu', 'dlhaines@umich.edu', 'dlhaines@umich.edu', 'arwhyte@umich.edu', 'arwhyte@umich.edu', 'arwhyte@umich.edu', 'arwhyte@umich.edu', 'arwhyte@umich.edu', 'wagnermr@iupui.edu', 'zqian@umich.edu', 'zqian@umich.edu', 'mmmay@indiana.edu', 'josrodri@iupui.edu', 'gjthomas@iupui.edu', 'mmmay@indiana.edu', 'mmmay@indiana.edu', 'mmmay@indiana.edu', 'mmmay@indiana.edu', 'mmmay@indiana.edu', 'mmmay@indiana.edu', 'mmmay@indiana.edu', 'mmmay@indiana.edu', 'sgithens@caret.cam.ac.uk', 'mmmay@indiana.edu', 'mmmay@indiana.edu', 'mmmay@indiana.edu', 'ray@media.berkeley.edu', 'mmmay@indiana.edu', 'mmmay@indiana.edu', 'david.horwitz@uct.ac.za', 'antranig@caret.cam.ac.uk', 'ggolden@umich.edu', 'antranig@caret.cam.ac.uk', 'ggolden@umich.edu', 'mmmay@indiana.edu', 'mmmay@indiana.edu', 'david.horwitz@uct.ac.za', 'mmmay@indiana.edu', 'mmmay@indiana.edu', 'mmmay@indiana.edu', 'mmmay@indiana.edu', 'mmmay@indiana.edu', 'mmmay@indiana.edu', 'mmmay@indiana.edu', 'mmmay@indiana.edu', 'mmmay@indiana.edu', 'wagnermr@iupui.edu', 'rjlowe@iupui.edu', 'gopal.ramasammycook@gmail.com', 'david.horwitz@uct.ac.za', 'zqian@umich.edu', 'zqian@umich.edu', 'ian@caret.cam.ac.uk', 'ray@media.berkeley.edu', 'hu2@iupui.edu', 'mmmay@indiana.edu', 'bkirschn@umich.edu', 'mmmay@indiana.edu', 'mmmay@indiana.edu', 'mmmay@indiana.edu', 'mmmay@indiana.edu', 'mmmay@indiana.edu', 'zqian@umich.edu', 'zqian@umich.edu', 'zqian@umich.edu', 'ray@media.berkeley.edu', 'ray@media.berkeley.edu', 'zqian@umich.edu', 'zqian@umich.edu', 'csev@umich.edu', 'josrodri@iupui.edu', 'csev@umich.edu', 'zqian@umich.edu', 'bahollad@indiana.edu', 'aaronz@vt.edu', 'jzaremba@unicon.net', 'ajpoland@iupui.edu', 'aaronz@vt.edu', 'csev@umich.edu', 'rjlowe@iupui.edu', 'nuno@ufp.pt', 'nuno@ufp.pt', 'mmmay@indiana.edu', 'bkirschn@umich.edu', 'jimeng@umich.edu', 'bkirschn@umich.edu', 'bkirschn@umich.edu', 'zqian@umich.edu', 'zqian@umich.edu', 'aaronz@vt.edu', 'john.ellis@rsmart.com', 'zqian@umich.edu', 'jzaremba@unicon.net', 'jimeng@umich.edu', 'bkirschn@umich.edu', 'bkirschn@umich.edu', 'bkirschn@umich.edu', 'bkirschn@umich.edu', 'zqian@umich.edu', 'ktsao@stanford.edu', 'mmmay@indiana.edu', 'dlhaines@umich.edu', 'zqian@umich.edu', 'dlhaines@umich.edu', 'bkirschn@umich.edu', 'zqian@umich.edu', 'bkirschn@umich.edu', 'ray@media.berkeley.edu', 'ian@caret.cam.ac.uk', 'ian@caret.cam.ac.uk', 'zach.thomas@txstate.edu', 'ostermmg@whitman.edu', 'bkirschn@umich.edu', 'mmmay@indiana.edu', 'mmmay@indiana.edu', 'mmmay@indiana.edu', 'wagnermr@iupui.edu', 'mmmay@indiana.edu', 'mmmay@indiana.edu', 'mmmay@indiana.edu', 'zach.thomas@txstate.edu', 'wagnermr@iupui.edu', 'gsilver@umich.edu', 'gjthomas@iupui.edu', 'gjthomas@iupui.edu', 'hu2@iupui.edu', 'ajpoland@iupui.edu', 'wagnermr@iupui.edu', 'david.horwitz@uct.ac.za', 'zqian@umich.edu', 'jzaremba@unicon.net', 'cwen@iupui.edu', 'ktsao@stanford.edu', 'bahollad@indiana.edu', 'zach.thomas@txstate.edu', 'cwen@iupui.edu', 'ajpoland@iupui.edu', 'wagnermr@iupui.edu', 'wagnermr@iupui.edu', 'aaronz@vt.edu', 'sgithens@caret.cam.ac.uk', 'a.fish@lancaster.ac.uk', 'aaronz@vt.edu', 'david.horwitz@uct.ac.za', 'david.horwitz@uct.ac.za', 'zqian@umich.edu', 'jzaremba@unicon.net', 'zach.thomas@txstate.edu', 'jzaremba@unicon.net', 'dlhaines@umich.edu', 'dlhaines@umich.edu', 'dlhaines@umich.edu', 'dlhaines@umich.edu', 'dlhaines@umich.edu', 'dlhaines@umich.edu', 'dlhaines@umich.edu', 'zqian@umich.edu', 'chmaurer@iupui.edu', 'john.ellis@rsmart.com', 'ajpoland@iupui.edu', 'rjlowe@iupui.edu', 'chmaurer@iupui.edu', 'ajpoland@iupui.edu', 'rjlowe@iupui.edu', 'kimsooil@bu.edu', 'dlhaines@umich.edu', 'dlhaines@umich.edu', 'dlhaines@umich.edu', 'zqian@umich.edu', 'kimsooil@bu.edu', 'nuno@ufp.pt', 'kimsooil@bu.edu', 'ajpoland@iupui.edu', 'chmaurer@iupui.edu', 'ajpoland@iupui.edu', 'ajpoland@iupui.edu', 'ajpoland@iupui.edu', 'ajpoland@iupui.edu', 'ajpoland@iupui.edu', 'ajpoland@iupui.edu', 'ajpoland@iupui.edu', 'ajpoland@iupui.edu', 'ajpoland@iupui.edu', 'ajpoland@iupui.edu', 'ajpoland@iupui.edu', 'ajpoland@iupui.edu', 'ajpoland@iupui.edu', 'ajpoland@iupui.edu', 'ajpoland@iupui.edu', 'ajpoland@iupui.edu', 'ajpoland@iupui.edu', 'ajpoland@iupui.edu', 'ajpoland@iupui.edu', 'dlhaines@umich.edu', 'rjlowe@iupui.edu', 'rjlowe@iupui.edu', 'wagnermr@iupui.edu', 'david.horwitz@uct.ac.za', 'jleasia@umich.edu', 'david.horwitz@uct.ac.za', 'mmmay@indiana.edu', 'mmmay@indiana.edu', 'mmmay@indiana.edu', 'mmmay@indiana.edu', 'mmmay@indiana.edu', 'mmmay@indiana.edu', 'mmmay@indiana.edu', 'mmmay@indiana.edu', 'mmmay@indiana.edu', 'mmmay@indiana.edu', 'mmmay@indiana.edu', 'mmmay@indiana.edu', 'mmmay@indiana.edu', 'mmmay@indiana.edu', 'mmmay@indiana.edu', 'mmmay@indiana.edu', 'mmmay@indiana.edu', 'mmmay@indiana.edu', 'mmmay@indiana.edu', 'mmmay@indiana.edu', 'mmmay@indiana.edu', 'mmmay@indiana.edu', 'mmmay@indiana.edu', 'mmmay@indiana.edu', 'mmmay@indiana.edu', 'cwen@iupui.edu', 'mmmay@indiana.edu', 'mmmay@indiana.edu', 'mmmay@indiana.edu', 'kimsooil@bu.edu', 'mmmay@indiana.edu', 'zqian@umich.edu', 'mmmay@indiana.edu', 'mmmay@indiana.edu', 'mmmay@indiana.edu', 'mmmay@indiana.edu', 'mmmay@indiana.edu', 'mmmay@indiana.edu', 'mmmay@indiana.edu', 'mmmay@indiana.edu', 'mmmay@indiana.edu', 'mmmay@indiana.edu', 'kimsooil@bu.edu', 'aaronz@vt.edu', 'dlhaines@umich.edu', 'zqian@umich.edu', 'mmmay@indiana.edu', 'dlhaines@umich.edu', 'cwen@iupui.edu', 'kimsooil@bu.edu', 'kimsooil@bu.edu', 'kimsooil@bu.edu', 'hu2@iupui.edu', 'zqian@umich.edu', 'kimsooil@bu.edu', 'aaronz@vt.edu', 'aaronz@vt.edu', 'aaronz@vt.edu', 'rjlowe@iupui.edu', 'ajpoland@iupui.edu', 'rjlowe@iupui.edu', 'rjlowe@iupui.edu', 'hu2@iupui.edu', 'dlhaines@umich.edu', 'a.fish@lancaster.ac.uk', 'a.fish@lancaster.ac.uk', 'a.fish@lancaster.ac.uk', 'gsilver@umich.edu', 'mbreuker@loi.nl', 'mbreuker@loi.nl', 'mbreuker@loi.nl', 'mbreuker@loi.nl', 'mbreuker@loi.nl', 'mbreuker@loi.nl', 'ajpoland@iupui.edu', 'rjlowe@iupui.edu', 'rjlowe@iupui.edu', 'a.fish@lancaster.ac.uk', 'a.fish@lancaster.ac.uk', 'a.fish@lancaster.ac.uk', 'dlhaines@umich.edu', 'mbreuker@loi.nl', 'david.horwitz@uct.ac.za', 'zach.thomas@txstate.edu', 'jimeng@umich.edu', 'zqian@umich.edu', 'jzaremba@unicon.net', 'colin.clark@utoronto.ca', 'ray@media.berkeley.edu', 'ray@media.berkeley.edu', 'ray@media.berkeley.edu', 'ray@media.berkeley.edu', 'louis@media.berkeley.edu', 'dlhaines@umich.edu', 'dlhaines@umich.edu', 'dlhaines@umich.edu', 'dlhaines@umich.edu', 'ajpoland@iupui.edu', 'wagnermr@iupui.edu', 'zqian@umich.edu', 'ktsao@stanford.edu', 'ray@media.berkeley.edu', 'aaronz@vt.edu', 'zqian@umich.edu', 'aaronz@vt.edu', 'bahollad@indiana.edu', 'aaronz@vt.edu', 'zqian@umich.edu', 'ray@media.berkeley.edu', 'zqian@umich.edu', 'zqian@umich.edu', 'zqian@umich.edu', 'bahollad@indiana.edu', 'ray@media.berkeley.edu', 'zqian@umich.edu', 'zqian@umich.edu', 'louis@media.berkeley.edu', 'zqian@umich.edu', 'ray@media.berkeley.edu', 'jzaremba@unicon.net', 'louis@media.berkeley.edu', 'rjlowe@iupui.edu', 'ajpoland@iupui.edu', 'ray@media.berkeley.edu', 'ajpoland@iupui.edu', 'rjlowe@iupui.edu', 'ray@media.berkeley.edu', 'zqian@umich.edu', 'bkirschn@umich.edu', 'mbreuker@loi.nl', 'zqian@umich.edu', 'gsilver@umich.edu', 'louis@media.berkeley.edu', 'bkirschn@umich.edu', 'bkirschn@umich.edu', 'ajpoland@iupui.edu', 'rjlowe@iupui.edu', 'rjlowe@iupui.edu', 'zach.thomas@txstate.edu', 'ian@caret.cam.ac.uk', 'ian@caret.cam.ac.uk', 'ray@media.berkeley.edu', 'ktsao@stanford.edu', 'zqian@umich.edu', 'ian@caret.cam.ac.uk', 'chmaurer@iupui.edu', 'ian@caret.cam.ac.uk', 'gjthomas@iupui.edu', 'gjthomas@iupui.edu', 'aaronz@vt.edu', 'ian@caret.cam.ac.uk', 'aaronz@vt.edu', 'aaronz@vt.edu', 'zqian@umich.edu', 'aaronz@vt.edu', 'aaronz@vt.edu', 'mbreuker@loi.nl', 'ian@caret.cam.ac.uk', 'zqian@umich.edu', 'zqian@umich.edu', 'ian@caret.cam.ac.uk', 'ian@caret.cam.ac.uk', 'ian@caret.cam.ac.uk', 'ian@caret.cam.ac.uk', 'dlhaines@umich.edu', 'ian@caret.cam.ac.uk', 'ian@caret.cam.ac.uk', 'ian@caret.cam.ac.uk', 'zqian@umich.edu', 'ian@caret.cam.ac.uk', 'aaronz@vt.edu', 'zqian@umich.edu', 'zqian@umich.edu', 'zqian@umich.edu', 'chmaurer@iupui.edu', 'chmaurer@iupui.edu', 'zqian@umich.edu', 'gjthomas@iupui.edu', 'gsilver@umich.edu', 'ian@caret.cam.ac.uk', 'ajpoland@iupui.edu', 'aaronz@vt.edu', 'aaronz@vt.edu', 'aaronz@vt.edu', 'zach.thomas@txstate.edu', 'ajpoland@iupui.edu', 'zqian@umich.edu', 'zqian@umich.edu', 'zqian@umich.edu', 'gjthomas@iupui.edu', 'rjlowe@iupui.edu', 'rjlowe@iupui.edu', 'dlhaines@umich.edu', 'rjlowe@iupui.edu', 'rjlowe@iupui.edu', 'aaronz@vt.edu', 'aaronz@vt.edu', 'cwen@iupui.edu', 'ktsao@stanford.edu', 'aaronz@vt.edu', 'aaronz@vt.edu', 'gsilver@umich.edu', 'gsilver@umich.edu', 'zqian@umich.edu', 'jzaremba@unicon.net', 'aaronz@vt.edu', 'aaronz@vt.edu', 'dlhaines@umich.edu', 'dlhaines@umich.edu', 'dlhaines@umich.edu', 'ajpoland@iupui.edu', 'rjlowe@iupui.edu', 'rjlowe@iupui.edu', 'rjlowe@iupui.edu', 'dlhaines@umich.edu', 'aaronz@vt.edu', 'aaronz@vt.edu', 'aaronz@vt.edu', 'aaronz@vt.edu', 'aaronz@vt.edu', 'aaronz@vt.edu', 'ian@caret.cam.ac.uk', 'aaronz@vt.edu', 'aaronz@vt.edu', 'ktsao@stanford.edu', 'ian@caret.cam.ac.uk', 'zqian@umich.edu', 'zqian@umich.edu', 'zqian@umich.edu', 'zqian@umich.edu', 'zqian@umich.edu', 'aaronz@vt.edu', 'aaronz@vt.edu', 'jzaremba@unicon.net', 'dlhaines@umich.edu', 'chmaurer@iupui.edu', 'zach.thomas@txstate.edu', 'dlhaines@umich.edu']\n"
     ]
    }
   ],
   "source": [
    "print(list_emails)"
   ]
  },
  {
   "cell_type": "markdown",
   "id": "3606b0d3-de22-4762-90c6-551632fe9411",
   "metadata": {},
   "source": [
    "# Question 1"
   ]
  },
  {
   "cell_type": "code",
   "execution_count": 24,
   "id": "82ed4872-8c5c-4363-9401-945c34a6f515",
   "metadata": {},
   "outputs": [
    {
     "data": {
      "text/plain": [
       "[1, 2, 3, 'apples', 'oranges']"
      ]
     },
     "execution_count": 24,
     "metadata": {},
     "output_type": "execute_result"
    }
   ],
   "source": [
    "x = [1,2,3]\n",
    "y = ['apples', 'oranges']\n",
    "x+y"
   ]
  },
  {
   "cell_type": "code",
   "execution_count": 44,
   "id": "dd1eea79-8226-4918-9591-9bddcd1ace50",
   "metadata": {},
   "outputs": [
    {
     "data": {
      "text/plain": [
       "True"
      ]
     },
     "execution_count": 44,
     "metadata": {},
     "output_type": "execute_result"
    }
   ],
   "source": [
    "1==True"
   ]
  },
  {
   "cell_type": "markdown",
   "id": "ffcef9af-a796-41b4-b186-708a83d37ff3",
   "metadata": {},
   "source": [
    "# Question 2. Create variables which take cost price and selling price for an item, write a program to determine whether the seller has made profit or incurred loss. Also determine how much profit he made or loss he incurred.                                                                        "
   ]
  },
  {
   "cell_type": "code",
   "execution_count": 42,
   "id": "ec875660-b10b-4407-ae64-a8afee5ed502",
   "metadata": {},
   "outputs": [
    {
     "name": "stdin",
     "output_type": "stream",
     "text": [
      "Enter cost price 12\n",
      "Enter selling price 10\n",
      "How many items 6.5\n"
     ]
    },
    {
     "name": "stdout",
     "output_type": "stream",
     "text": [
      "A loss has been made for: $13.00\n"
     ]
    }
   ],
   "source": [
    "cost_price = input('Enter cost price')\n",
    "cost_price = float(cost_price)\n",
    "selling_price = input('Enter selling price')\n",
    "selling_price = float(selling_price)\n",
    "quantities = input('How many items')\n",
    "quantities = float(quantities)\n",
    "profit = quantities*(selling_price - cost_price)\n",
    "if profit > 0:\n",
    "    print('A profit has been made for: $%.2f ' % profit)\n",
    "else:\n",
    "    print('A loss has been made for: $%.2f' % -profit)"
   ]
  },
  {
   "cell_type": "markdown",
   "id": "806b7728-a458-4f34-9c7b-72e6f5e88278",
   "metadata": {},
   "source": [
    "# Question 3. 1st Jan 2023 is a Sunday. Enter any year and determine what day is the 1st Jan of that year.                                   "
   ]
  },
  {
   "cell_type": "code",
   "execution_count": 10,
   "id": "1f9b9315-7c08-4bbf-8cbb-07475d1a4e1d",
   "metadata": {},
   "outputs": [
    {
     "name": "stdin",
     "output_type": "stream",
     "text": [
      "Enter year:  2115\n"
     ]
    },
    {
     "name": "stdout",
     "output_type": "stream",
     "text": [
      "1st Jan of  2115  is  Tuesday\n"
     ]
    }
   ],
   "source": [
    "def is_leap_year(year):   # simple rule is year should be divisible by 4\n",
    "    if year % 100 ==0:\n",
    "        if year % 400 ==0:\n",
    "            return True\n",
    "    elif year%4 ==0:\n",
    "        return True      # 2000, 1600, 1996 are leap years ... 1700, 1800 are not\n",
    "    \n",
    "year = input('Enter year: ')\n",
    "year = int(year)\n",
    "week = ['Sunday', 'Monday','Tuesday','Wednesday',\n",
    "           'Thursday', 'Friday', 'Saturday']\n",
    "if year >= 2023:\n",
    "    list_years = range(2023, year)\n",
    "    num_years = year - 2023 # len(list_years)\n",
    "    num_leap_year = 0\n",
    "    for item in list_years:\n",
    "        if is_leap_year(item):\n",
    "            num_leap_year +=1\n",
    "    num_days = num_years * 365 + num_leap_year\n",
    "    index = num_days % 7 \n",
    "    weekday = week[index]\n",
    "    print('1st Jan of ', year, ' is ', weekday)\n",
    "else:\n",
    "    list_years = range(year, 2023)\n",
    "    num_years = 2023 - year # len(list_years)\n",
    "    num_leap_year = 0\n",
    "    for item in list_years:\n",
    "        if is_leap_year(item):\n",
    "            num_leap_year +=1\n",
    "    num_days = num_years * 365 + num_leap_year\n",
    "    index = num_days % 7 \n",
    "    weekday = week[-index]\n",
    "    print('1st Jan of ', year, ' is ', weekday)    "
   ]
  },
  {
   "cell_type": "markdown",
   "id": "7bd33f2e-08b2-4f73-8d49-142faff8e324",
   "metadata": {},
   "source": [
    "# Question 4"
   ]
  },
  {
   "cell_type": "code",
   "execution_count": 14,
   "id": "1e341c29-fb8e-41e1-9f49-ec79d9a1aeb5",
   "metadata": {},
   "outputs": [
    {
     "name": "stdout",
     "output_type": "stream",
     "text": [
      "5.6\n"
     ]
    }
   ],
   "source": [
    "number = -5.6\n",
    "if number >= 0:\n",
    "    abs_value = number\n",
    "else:\n",
    "    abs_value = -number\n",
    "print(abs_value)"
   ]
  },
  {
   "cell_type": "markdown",
   "id": "3b0389b7-e9e1-4fcc-b0ee-fd236842d006",
   "metadata": {},
   "source": [
    "# Question 5"
   ]
  },
  {
   "cell_type": "code",
   "execution_count": 20,
   "id": "3a50d8ad-aca5-4e2c-9821-626f54e5eabc",
   "metadata": {},
   "outputs": [
    {
     "data": {
      "text/plain": [
       "6436343"
      ]
     },
     "execution_count": 20,
     "metadata": {},
     "output_type": "execute_result"
    }
   ],
   "source": [
    "23**5 # exponentiation operator"
   ]
  },
  {
   "cell_type": "code",
   "execution_count": 21,
   "id": "a244bd48-7c70-4dd4-b269-a2d3e18a7809",
   "metadata": {},
   "outputs": [
    {
     "data": {
      "text/plain": [
       "6436343"
      ]
     },
     "execution_count": 21,
     "metadata": {},
     "output_type": "execute_result"
    }
   ],
   "source": [
    "pow(23,5) # power function"
   ]
  },
  {
   "cell_type": "code",
   "execution_count": 19,
   "id": "2c1213cb-b764-4a73-a808-08c7e4e5d166",
   "metadata": {},
   "outputs": [
    {
     "name": "stdout",
     "output_type": "stream",
     "text": [
      "6436343\n"
     ]
    }
   ],
   "source": [
    "base = 23\n",
    "power = 5\n",
    "# 23 x 23 x 23 x 23 x 23,   23^0 = 1\n",
    "count = 0\n",
    "answer = 1\n",
    "while count < power:\n",
    "    answer = answer * base\n",
    "    count = count + 1\n",
    "print(answer)"
   ]
  },
  {
   "cell_type": "markdown",
   "id": "85132736-e7df-4c98-b1de-30cf245e670c",
   "metadata": {},
   "source": [
    "# Question 13"
   ]
  },
  {
   "cell_type": "code",
   "execution_count": 17,
   "id": "626105c0-aeb7-4583-9aa9-7da90a5885d5",
   "metadata": {},
   "outputs": [
    {
     "name": "stdout",
     "output_type": "stream",
     "text": [
      "185\n"
     ]
    }
   ],
   "source": [
    "import random\n",
    "n = 500\n",
    "secret_integer = random.randint(1,n)\n",
    "print(secret_integer)"
   ]
  },
  {
   "cell_type": "code",
   "execution_count": 23,
   "id": "0d72e638-a001-4c51-a406-3592a38567b9",
   "metadata": {},
   "outputs": [
    {
     "data": {
      "text/plain": [
       "250"
      ]
     },
     "execution_count": 23,
     "metadata": {},
     "output_type": "execute_result"
    }
   ],
   "source": [
    "import math\n",
    "L = 1\n",
    "H = n\n",
    "g = math.floor((1+n)/2)\n",
    "g"
   ]
  },
  {
   "cell_type": "code",
   "execution_count": 25,
   "id": "4feb72d4-19b7-4dfa-bd3f-be0561c478f9",
   "metadata": {},
   "outputs": [
    {
     "name": "stdout",
     "output_type": "stream",
     "text": [
      "No .of guesses:  8  Guessed integer is:  185\n"
     ]
    }
   ],
   "source": [
    "count = 0\n",
    "while g != secret_integer:\n",
    "    if g < secret_integer:\n",
    "        L = g+1\n",
    "        g = math.floor((L+H)/2)\n",
    "    else:\n",
    "        H = g-1\n",
    "        g = math.floor((L+H)/2)\n",
    "    count +=1\n",
    "print('No .of guesses: ', count+1, ' Guessed integer is: ', g)"
   ]
  },
  {
   "cell_type": "code",
   "execution_count": 29,
   "id": "80474d9e-279c-4546-9b99-1b3ea13fb4bd",
   "metadata": {},
   "outputs": [
    {
     "name": "stdout",
     "output_type": "stream",
     "text": [
      "No .of guesses:  9  Guessed integer is:  372\n"
     ]
    }
   ],
   "source": [
    "import random\n",
    "def binary_search_tree(n):\n",
    "    secret_integer = random.randint(1,n)\n",
    "    # print('secret_integer: ', secret_integer)\n",
    "    L = 1\n",
    "    H = n\n",
    "    g = math.floor((L+H)/2)\n",
    "    count = 0\n",
    "    while g != secret_integer:\n",
    "        if g < secret_integer:\n",
    "            L = g+1\n",
    "            g = math.floor((L+H)/2)\n",
    "        else:\n",
    "            H = g-1\n",
    "            g = math.floor((L+H)/2)\n",
    "        count +=1\n",
    "    return count+1, g\n",
    "count, g = binary_search_tree(500)\n",
    "print('No .of guesses: ', count, ' Guessed integer is: ', g)"
   ]
  },
  {
   "cell_type": "code",
   "execution_count": 51,
   "id": "6c16f7aa-3827-4a47-93f4-5ee56aab88e0",
   "metadata": {},
   "outputs": [
    {
     "name": "stdout",
     "output_type": "stream",
     "text": [
      "Expected number of guesses:  2.346\n"
     ]
    }
   ],
   "source": [
    "def B(n):\n",
    "    num_experiments = 1000\n",
    "    i = 0\n",
    "    total_num_guesses = 0\n",
    "    while i < num_experiments:\n",
    "        num_guesses, guessed_integer = binary_search_tree(n)\n",
    "        total_num_guesses = total_num_guesses + num_guesses\n",
    "        # print('No .of guesses: ', num_guesses, ' Guessed integer is: ', guessed_integer)\n",
    "        i +=1\n",
    "        average = total_num_guesses/num_experiments\n",
    "        return average\n",
    "print('Expected number of guesses: ', B(6))"
   ]
  },
  {
   "cell_type": "code",
   "execution_count": 53,
   "id": "911c72ae-8de2-461c-96f4-96343d5a805c",
   "metadata": {},
   "outputs": [],
   "source": [
    "import random\n",
    "def random_search_tree(n):\n",
    "    secret_integer = random.randint(1,n)\n",
    "    # print('secret_integer: ', secret_integer)\n",
    "    L = 1\n",
    "    H = n\n",
    "    g = random.randint(L,H)\n",
    "    count = 0\n",
    "    while g != secret_integer:\n",
    "        if g < secret_integer:\n",
    "            L = g+1\n",
    "            g = random.randint(L,H)\n",
    "        else:\n",
    "            H = g-1\n",
    "            g = random.randint(L,H)\n",
    "        count +=1\n",
    "    return count+1, g\n",
    "# count, g = random_search_tree(500)\n",
    "# print('No .of guesses: ', count, ' Guessed integer is: ', g)"
   ]
  },
  {
   "cell_type": "code",
   "execution_count": 55,
   "id": "2c02348b-8431-4e9c-a275-c27067b42b2b",
   "metadata": {},
   "outputs": [
    {
     "name": "stdout",
     "output_type": "stream",
     "text": [
      "Expected number of guesses:  2.72\n"
     ]
    }
   ],
   "source": [
    "def R(n):\n",
    "    num_experiments = 1000\n",
    "    i = 0\n",
    "    total_num_guesses = 0\n",
    "    while i < num_experiments:\n",
    "        num_guesses, guessed_integer = random_search_tree(n)\n",
    "        total_num_guesses = total_num_guesses + num_guesses\n",
    "        # print('No .of guesses: ', num_guesses, ' Guessed integer is: ', guessed_integer)\n",
    "        i +=1\n",
    "    return total_num_guesses/num_experiments\n",
    "print('Expected number of guesses: ', R(6))"
   ]
  },
  {
   "cell_type": "code",
   "execution_count": 57,
   "id": "5daf793b-1137-44c8-bec7-76c5d2ae78e3",
   "metadata": {},
   "outputs": [
    {
     "data": {
      "text/plain": [
       "12.059999999999995"
      ]
     },
     "execution_count": 57,
     "metadata": {},
     "output_type": "execute_result"
    }
   ],
   "source": [
    "R(10**10)-B(10**10)   # 10 ** 10 = 10,000,000,000"
   ]
  },
  {
   "cell_type": "code",
   "execution_count": 71,
   "id": "4b3572d0-ec00-408d-bdfc-13b960f72be2",
   "metadata": {},
   "outputs": [
    {
     "data": {
      "text/plain": [
       "720"
      ]
     },
     "execution_count": 71,
     "metadata": {},
     "output_type": "execute_result"
    }
   ],
   "source": [
    "# example of recursive function\n",
    "\n",
    "def factorial(n):\n",
    "    if n > 1:\n",
    "        return factorial(n-1)*n\n",
    "    elif n == 0 or n == 1:\n",
    "        return 1\n",
    "factorial(6)"
   ]
  },
  {
   "cell_type": "code",
   "execution_count": 77,
   "id": "c86b4a74-de16-4419-b6ea-bd1b1a92b4f7",
   "metadata": {},
   "outputs": [
    {
     "name": "stdout",
     "output_type": "stream",
     "text": [
      "--- 0.0009925365447998047 seconds ---\n"
     ]
    }
   ],
   "source": [
    "import time\n",
    "t1 = time.time()\n",
    "factorial(1000)\n",
    "t2 = time.time()\n",
    "print(\"--- %s seconds ---\" % (t2 - t1))"
   ]
  },
  {
   "cell_type": "code",
   "execution_count": null,
   "id": "10d20ac9-08af-43a3-a973-d9471b30206a",
   "metadata": {},
   "outputs": [],
   "source": [
    "factorial(6) =  1x2x3x4x5x6 = 720\n",
    "6! = 1x2x...X6 = 5! * 6\n",
    "factorial(6) = factorial(5)*6\n",
    "# 5! = 1x2x3x4x5 = 120\n",
    "# 2! = 1x2 = 2\n",
    "# 1! = 1\n",
    "# 0! = 1"
   ]
  },
  {
   "cell_type": "code",
   "execution_count": 74,
   "id": "a13afaa3-0293-4ea1-a84e-c76251f51525",
   "metadata": {},
   "outputs": [
    {
     "data": {
      "text/plain": [
       "3"
      ]
     },
     "execution_count": 74,
     "metadata": {},
     "output_type": "execute_result"
    }
   ],
   "source": [
    "import random\n",
    "random.randint(1,4)"
   ]
  },
  {
   "cell_type": "markdown",
   "id": "868459de-2538-4a7d-867c-0b93caf2bc58",
   "metadata": {},
   "source": [
    "# Question 6 "
   ]
  },
  {
   "cell_type": "code",
   "execution_count": 79,
   "id": "ff0bbe23-ea22-4abc-83c9-61b81f9d3761",
   "metadata": {},
   "outputs": [
    {
     "name": "stdout",
     "output_type": "stream",
     "text": [
      "[1, 1, 2, 3, 5, 8, 13, 21, 34, 55, 89, 144, 233, 377, 610, 987, 1597, 2584, 4181, 6765, 10946, 17711, 28657, 46368, 75025]\n"
     ]
    }
   ],
   "source": [
    "fibonacci_seq = [1,1]\n",
    "first_num = 1\n",
    "second_num = 1\n",
    "# 1, 1, 2\n",
    "# 1, 2, 3\n",
    "# 2, 3, 5\n",
    "count = 0\n",
    "while count < 23:\n",
    "    add = first_num + second_num  # 2 = 1+ 1,  3 = 1+2, 5 = 2 + 3\n",
    "    first_num = second_num    # 1 # 2 # 3\n",
    "    second_num = add          # 2  # 3 # 5\n",
    "    fibonacci_seq.append(add)\n",
    "    count = count + 1\n",
    "print(fibonacci_seq)"
   ]
  },
  {
   "cell_type": "markdown",
   "id": "0e42f21b-1fec-4414-bf0d-5d52455f6adf",
   "metadata": {},
   "source": [
    "# put above code in a function def"
   ]
  },
  {
   "cell_type": "code",
   "execution_count": 52,
   "id": "e67ecf44-d942-42be-bbfd-655d719fe32b",
   "metadata": {},
   "outputs": [
    {
     "name": "stdout",
     "output_type": "stream",
     "text": [
      "[1, 1, 2, 3, 5, 8, 13, 21, 34, 55, 89, 144, 233, 377, 610, 987, 1597, 2584, 4181, 6765, 10946, 17711, 28657, 46368, 75025]\n"
     ]
    }
   ],
   "source": [
    "def fibonacci_seq_gen(n):\n",
    "    fibonacci_seq = [1,1]\n",
    "    first_num = 1\n",
    "    second_num = 1\n",
    "    count = 0\n",
    "    while count < n-2:\n",
    "        add = first_num + second_num\n",
    "        first_num = second_num\n",
    "        second_num = add\n",
    "        fibonacci_seq.append(add)\n",
    "        count = count + 1\n",
    "    return fibonacci_seq\n",
    "print(fibonacci_seq_gen(25))"
   ]
  },
  {
   "cell_type": "markdown",
   "id": "d9b6e3f1-01d2-4edd-9c15-47361ce0f0a7",
   "metadata": {},
   "source": [
    "# recursive"
   ]
  },
  {
   "cell_type": "code",
   "execution_count": 11,
   "id": "8c0c7a2d-b515-4073-b6c4-6252ba2a337b",
   "metadata": {},
   "outputs": [],
   "source": [
    "fibonacci_num = [1,1]\n",
    "def fibonacci_seq(fibonacci_num,n):\n",
    "    # fibonacci_num = [1,1]\n",
    "    if n > 2:\n",
    "        fibonacci_num.append(fibonacci_num[-1]+fibonacci_num[-2])\n",
    "        return fibonacci_seq(fibonacci_num,n-1)\n",
    "    else:\n",
    "        return fibonacci_num"
   ]
  },
  {
   "cell_type": "code",
   "execution_count": 13,
   "id": "15e880f2-b194-4a3d-8790-a3acc3df8304",
   "metadata": {},
   "outputs": [
    {
     "data": {
      "text/plain": [
       "[1,\n",
       " 1,\n",
       " 2,\n",
       " 3,\n",
       " 5,\n",
       " 8,\n",
       " 13,\n",
       " 21,\n",
       " 34,\n",
       " 55,\n",
       " 89,\n",
       " 144,\n",
       " 233,\n",
       " 377,\n",
       " 610,\n",
       " 987,\n",
       " 1597,\n",
       " 2584,\n",
       " 4181,\n",
       " 6765,\n",
       " 10946,\n",
       " 17711,\n",
       " 28657,\n",
       " 46368,\n",
       " 75025]"
      ]
     },
     "execution_count": 13,
     "metadata": {},
     "output_type": "execute_result"
    }
   ],
   "source": [
    "fibonacci_seq(fibonacci_num, 25)\n"
   ]
  },
  {
   "cell_type": "code",
   "execution_count": 9,
   "id": "7d63a90e-10ad-4cdc-ad42-481d29598b9e",
   "metadata": {},
   "outputs": [
    {
     "data": {
      "text/plain": [
       "[1, 1]"
      ]
     },
     "execution_count": 9,
     "metadata": {},
     "output_type": "execute_result"
    }
   ],
   "source": [
    "fibonacci_num"
   ]
  },
  {
   "cell_type": "markdown",
   "id": "f6c892bc-c22c-4c11-9676-81914a9f17a0",
   "metadata": {},
   "source": [
    "# Question 8"
   ]
  },
  {
   "cell_type": "code",
   "execution_count": 2,
   "id": "ce0890fc-a5b6-4b2b-95cc-e2270219c42f",
   "metadata": {},
   "outputs": [
    {
     "name": "stdin",
     "output_type": "stream",
     "text": [
      "Enter length:  5.5\n",
      "Enter breadth:  3.5\n"
     ]
    },
    {
     "name": "stdout",
     "output_type": "stream",
     "text": [
      "area is greater than perimeter\n"
     ]
    }
   ],
   "source": [
    "length = float(input('Enter length: '))\n",
    "breadth = float(input('Enter breadth: '))\n",
    "area = length*breadth\n",
    "perimeter = 2*length+2*breadth\n",
    "if area > perimeter:\n",
    "    print('area is greater than perimeter')\n",
    "else:\n",
    "    print('area is not greater than perimeter')"
   ]
  },
  {
   "cell_type": "markdown",
   "id": "81d60545-dd42-417e-85b7-5198074391be",
   "metadata": {},
   "source": [
    "# Question 9:"
   ]
  },
  {
   "cell_type": "code",
   "execution_count": 5,
   "id": "e7e1ab5e-932c-4634-9700-aa38c645cfb6",
   "metadata": {},
   "outputs": [
    {
     "name": "stdout",
     "output_type": "stream",
     "text": [
      "-353.0\n"
     ]
    }
   ],
   "source": [
    "a = 5 \n",
    "b = -3\n",
    "c = 2\n",
    "d = -4\n",
    "expression = (a**4+b**4)/(c+d)\n",
    "print(expression)"
   ]
  },
  {
   "cell_type": "markdown",
   "id": "a5a5a9d1-6948-4dbe-b240-571ad1d02948",
   "metadata": {},
   "source": [
    "# Question 10:"
   ]
  },
  {
   "cell_type": "code",
   "execution_count": null,
   "id": "12693628-08a9-40fb-ac37-074a4b9d0f69",
   "metadata": {},
   "outputs": [],
   "source": [
    "P1 = int(input('Enter age'))\n",
    "P2 = int(input('Enter age'))\n",
    "P3 = int(input('Enter age'))\n",
    "list_ages = [P1, P2, P3] # 30,20,50\n",
    "min = P1\n",
    "for age in list_ages:\n",
    "    if min>age:\n",
    "        min = age\n",
    "print(min)"
   ]
  },
  {
   "cell_type": "code",
   "execution_count": 14,
   "id": "e2d3bd12-8410-4d20-8d9a-d5a6e0d3831b",
   "metadata": {},
   "outputs": [
    {
     "name": "stdout",
     "output_type": "stream",
     "text": [
      "[1, 2]\n"
     ]
    }
   ],
   "source": [
    "list_index = []\n",
    "for index in range(len(list_ages)):\n",
    "    if list_ages[index] == min:\n",
    "        list_index.append(index)\n",
    "print(list_index)"
   ]
  },
  {
   "cell_type": "code",
   "execution_count": 10,
   "id": "f87bbbf3-c6d4-4ab7-b78f-0f99f6ddb4b0",
   "metadata": {},
   "outputs": [
    {
     "name": "stdout",
     "output_type": "stream",
     "text": [
      "P3 has minimum age:  20\n"
     ]
    }
   ],
   "source": [
    "if P1 < P2 and P1< P3:\n",
    "    print('P1 has minimum age: ', P1)\n",
    "elif P2 < P1 and P2 < P3:\n",
    "     print('P2 has minimum age: ', P2)\n",
    "else:\n",
    "     print('P3 has minimum age: ', P3)"
   ]
  },
  {
   "cell_type": "code",
   "execution_count": 15,
   "id": "2ba95167-2350-46db-9d8e-923e4fcfe06e",
   "metadata": {},
   "outputs": [
    {
     "name": "stdin",
     "output_type": "stream",
     "text": [
      "Enter age 30\n",
      "Enter age 20\n",
      "Enter age 15\n",
      "Enter age 69\n",
      "Enter age 45\n",
      "Enter age 15\n",
      "Enter age 23\n",
      "Enter age 24\n",
      "Enter age 26\n",
      "Enter age 37\n"
     ]
    },
    {
     "name": "stdout",
     "output_type": "stream",
     "text": [
      "15\n"
     ]
    }
   ],
   "source": [
    "count = 0\n",
    "list_ages = []\n",
    "while count < 10:\n",
    "    age = int(input('Enter age'))\n",
    "    list_ages.append(age)\n",
    "    count = count + 1\n",
    "min_age = list_ages[0]\n",
    "for age in list_ages:\n",
    "    if min_age>age:\n",
    "        min_age = age\n",
    "print(min_age)"
   ]
  },
  {
   "cell_type": "code",
   "execution_count": 16,
   "id": "294caa18-6a5c-49be-9478-cbbdbfb51c15",
   "metadata": {},
   "outputs": [
    {
     "name": "stdout",
     "output_type": "stream",
     "text": [
      "[2, 5]\n"
     ]
    }
   ],
   "source": [
    "list_index = []\n",
    "for index in range(len(list_ages)):\n",
    "    if list_ages[index] == min_age:\n",
    "        list_index.append(index)\n",
    "print(list_index)"
   ]
  },
  {
   "cell_type": "code",
   "execution_count": 17,
   "id": "ddc3332e-c3c7-464f-b66a-b026d5711ded",
   "metadata": {},
   "outputs": [
    {
     "data": {
      "text/plain": [
       "[30, 20, 15, 69, 45, 15, 23, 24, 26, 37]"
      ]
     },
     "execution_count": 17,
     "metadata": {},
     "output_type": "execute_result"
    }
   ],
   "source": [
    "list_ages"
   ]
  },
  {
   "cell_type": "markdown",
   "id": "2d61caca-b90e-4eba-8f2e-18f55eb7d4e9",
   "metadata": {},
   "source": [
    "# Question 11"
   ]
  },
  {
   "cell_type": "code",
   "execution_count": 23,
   "id": "52fc41e8-18df-48e7-aaf2-237761877e0a",
   "metadata": {},
   "outputs": [
    {
     "name": "stdout",
     "output_type": "stream",
     "text": [
      "[0.5, 0.6666666666666666, 0.75, 0.8, 0.8333333333333334, 0.8571428571428571, 0.875]\n",
      "5.2821428571428575\n"
     ]
    }
   ],
   "source": [
    "list_num = []\n",
    "total = 0\n",
    "for n in range(7):\n",
    "    numerator = n+1  # 1, 2, 3,...\n",
    "    denominator = n+2 # 2, 3, 4,...\n",
    "    fraction = numerator/denominator\n",
    "    list_num.append(fraction)\n",
    "    total += fraction\n",
    "print(list_num)\n",
    "print(total)"
   ]
  },
  {
   "cell_type": "code",
   "execution_count": 19,
   "id": "77d5654d-8bf8-4e71-89d4-2d0dd7d85603",
   "metadata": {},
   "outputs": [
    {
     "data": {
      "text/plain": [
       "5.2821428571428575"
      ]
     },
     "execution_count": 19,
     "metadata": {},
     "output_type": "execute_result"
    }
   ],
   "source": [
    "sum(list_num)"
   ]
  },
  {
   "cell_type": "code",
   "execution_count": 21,
   "id": "8d7bccfd-4838-49dd-a3da-156d6e7949ac",
   "metadata": {},
   "outputs": [
    {
     "data": {
      "text/plain": [
       "0.5"
      ]
     },
     "execution_count": 21,
     "metadata": {},
     "output_type": "execute_result"
    }
   ],
   "source": [
    "1/2"
   ]
  },
  {
   "cell_type": "markdown",
   "id": "fb804d58-06c7-4c79-aa79-a06023dc19b2",
   "metadata": {},
   "source": [
    "# Question 12"
   ]
  },
  {
   "cell_type": "code",
   "execution_count": 2,
   "id": "3214361b-4624-4626-a224-74d7acbb6055",
   "metadata": {},
   "outputs": [
    {
     "name": "stdout",
     "output_type": "stream",
     "text": [
      "program in 1st for loop\n",
      "program in 2nd for loop\n",
      "program in 2nd for loop\n",
      "program in 3rd for loop\n",
      "program in 3rd for loop\n",
      "program in 3rd for loop\n",
      "123\n",
      "program in 2nd for loop\n",
      "program in 3rd for loop\n",
      "program in 3rd for loop\n",
      "132\n",
      "program in 3rd for loop\n",
      "program in 1st for loop\n",
      "program in 2nd for loop\n",
      "program in 3rd for loop\n",
      "program in 3rd for loop\n",
      "program in 3rd for loop\n",
      "213\n",
      "program in 2nd for loop\n",
      "program in 2nd for loop\n",
      "program in 3rd for loop\n",
      "231\n",
      "program in 3rd for loop\n",
      "program in 3rd for loop\n",
      "program in 1st for loop\n",
      "program in 2nd for loop\n",
      "program in 3rd for loop\n",
      "program in 3rd for loop\n",
      "312\n",
      "program in 3rd for loop\n",
      "program in 2nd for loop\n",
      "program in 3rd for loop\n",
      "321\n",
      "program in 3rd for loop\n",
      "program in 3rd for loop\n",
      "program in 2nd for loop\n"
     ]
    }
   ],
   "source": [
    "list_num = [1,2,3]  # ['1','2','3'] '1'+'2'+'3' = '123'  , 1x100+2x10+3 = 123\n",
    "for num in list_num:\n",
    "    print('program in 1st for loop')\n",
    "    hundreth_place = num\n",
    "    for num1 in list_num:\n",
    "        print('program in 2nd for loop')\n",
    "        if num1 != num:\n",
    "            tenth_place = num1\n",
    "            for num2 in list_num:\n",
    "                print('program in 3rd for loop')\n",
    "                if num2 != num1 and num2!=num:\n",
    "                    unit_place = num2\n",
    "                    print(hundreth_place*100+tenth_place*10+unit_place)"
   ]
  },
  {
   "cell_type": "code",
   "execution_count": null,
   "id": "229a739c-9587-42e8-bfee-ff04c99604b8",
   "metadata": {},
   "outputs": [],
   "source": []
  }
 ],
 "metadata": {
  "kernelspec": {
   "display_name": "Python [conda env:base] *",
   "language": "python",
   "name": "conda-base-py"
  },
  "language_info": {
   "codemirror_mode": {
    "name": "ipython",
    "version": 3
   },
   "file_extension": ".py",
   "mimetype": "text/x-python",
   "name": "python",
   "nbconvert_exporter": "python",
   "pygments_lexer": "ipython3",
   "version": "3.12.7"
  }
 },
 "nbformat": 4,
 "nbformat_minor": 5
}
