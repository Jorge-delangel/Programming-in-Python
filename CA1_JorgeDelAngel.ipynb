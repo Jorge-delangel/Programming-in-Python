{
  "nbformat": 4,
  "nbformat_minor": 0,
  "metadata": {
    "colab": {
      "provenance": [],
      "toc_visible": true,
      "authorship_tag": "ABX9TyPQW/FY+UOHkeVTSvjxSp74"
    },
    "kernelspec": {
      "name": "python3",
      "display_name": "Python 3"
    },
    "language_info": {
      "name": "python"
    }
  },
  "cells": [
    {
      "cell_type": "code",
      "execution_count": 1,
      "metadata": {
        "colab": {
          "base_uri": "https://localhost:8080/"
        },
        "id": "sIQhwClBUFJI",
        "outputId": "fa59a44a-3a92-4cb4-e9e9-f2c8ce045f95"
      },
      "outputs": [
        {
          "output_type": "stream",
          "name": "stdout",
          "text": [
            "6\n"
          ]
        }
      ],
      "source": [
        "count = 0\n",
        "for i in range(1, 4): # 1, 2, 3\n",
        "   count = count + i\n",
        "print(count)"
      ]
    },
    {
      "cell_type": "code",
      "source": [
        "my_list = [10, 20, 30, 40]\n",
        "print(my_list[-2])"
      ],
      "metadata": {
        "colab": {
          "base_uri": "https://localhost:8080/"
        },
        "id": "NVoAle_hUORd",
        "outputId": "a8f1774d-7685-40c4-f281-85bf9a793138"
      },
      "execution_count": null,
      "outputs": [
        {
          "output_type": "stream",
          "name": "stdout",
          "text": [
            "30\n"
          ]
        }
      ]
    },
    {
      "cell_type": "code",
      "source": [
        "my_string = \"Python\"\n",
        "print(my_string[1:4])"
      ],
      "metadata": {
        "colab": {
          "base_uri": "https://localhost:8080/"
        },
        "id": "RwtQRFtKUXmk",
        "outputId": "bbabcd98-bcbd-46f5-8054-d9f4ccf50afb"
      },
      "execution_count": null,
      "outputs": [
        {
          "output_type": "stream",
          "name": "stdout",
          "text": [
            "yth\n"
          ]
        }
      ]
    },
    {
      "cell_type": "code",
      "source": [
        "print(10 // 3)"
      ],
      "metadata": {
        "colab": {
          "base_uri": "https://localhost:8080/"
        },
        "id": "LcFQ7GI-Uf3_",
        "outputId": "3d6d4785-37c0-4744-cd05-7e4e9e022aef"
      },
      "execution_count": null,
      "outputs": [
        {
          "output_type": "stream",
          "name": "stdout",
          "text": [
            "3\n"
          ]
        }
      ]
    },
    {
      "source": [
        "my_list = []\n",
        "for i in range(1, 11):\n",
        "  my_list.append(i)\n",
        "  if i == 6:\n",
        "    break  # Exit the loop when i is 5\n",
        "print(my_list)"
      ],
      "cell_type": "code",
      "metadata": {
        "colab": {
          "base_uri": "https://localhost:8080/"
        },
        "id": "sTT26gc5WmHE",
        "outputId": "50f88a11-6f7e-4d8a-c59b-048c70f1e0b3"
      },
      "execution_count": null,
      "outputs": [
        {
          "output_type": "stream",
          "name": "stdout",
          "text": [
            "[1, 2, 3, 4, 5, 6]\n"
          ]
        }
      ]
    },
    {
      "cell_type": "code",
      "source": [
        "print(\"Hello\".find('H'))"
      ],
      "metadata": {
        "colab": {
          "base_uri": "https://localhost:8080/"
        },
        "id": "9xFLA_h7Xwsu",
        "outputId": "a735285e-f947-48e2-ba25-583ad42a4625"
      },
      "execution_count": null,
      "outputs": [
        {
          "output_type": "stream",
          "name": "stdout",
          "text": [
            "0\n"
          ]
        }
      ]
    },
    {
      "cell_type": "code",
      "source": [
        "def process_list(items):\n",
        "    new_list = [] #Creating an emty list\n",
        "    mid_point = len(items) / 2 #Count the number of items in the data and find the midpoint\n",
        "    for index in range(len(items)): #Go through the index of each item\n",
        "        element = items[index] # Assigns the corresponding item to the variable \"element\"\n",
        "        if index < mid_point: # If the index's item is less than the midpoint,\n",
        "            if type(element) == int: # And if the item is a integer\n",
        "               new_list.append(element * 2) # The integer item is added to the \"new list\" not before being multiplied by 2\n",
        "        else: # Second half of the index items that are greasted than the midpoint\n",
        "             if type(element) == str: # If the item is a string\n",
        "                new_list.append(element.upper()) # This one is added to the same list, not before being converted to uppercase\n",
        "    return new_list # The function return the list of items who pass the filter\n",
        "\n",
        "data = [10, \"apple\", 20, \"banana\", 30, \"cherry\"] # The data to feet the function\n",
        "print(process_list(data)) # The function being called and printed"
      ],
      "metadata": {
        "colab": {
          "base_uri": "https://localhost:8080/"
        },
        "id": "OV_SevNlbboi",
        "outputId": "13949c8b-e469-4ad2-c24f-5730070c6559"
      },
      "execution_count": null,
      "outputs": [
        {
          "output_type": "stream",
          "name": "stdout",
          "text": [
            "[20, 40, 'BANANA', 'CHERRY']\n"
          ]
        }
      ]
    },
    {
      "cell_type": "code",
      "source": [
        "def filter_positives(numbers):\n",
        "  positive_nums = [] # Set the variable as an emty list\n",
        "  for num in numbers:\n",
        "    if num > 0: # The condition now filters positive numbers\n",
        "       positive_nums.append(num) # Positive numbers are added to the list\n",
        "  return positive_nums # The function returns the list of positive numbers\n",
        "\n",
        "# Example usage (for testing):\n",
        "nums = [1, -2, 3, 0, -4, 5, -1.4]\n",
        "print(filter_positives(nums)) # Should print [1, 3, 5]"
      ],
      "metadata": {
        "colab": {
          "base_uri": "https://localhost:8080/"
        },
        "id": "EEwcnME9giB8",
        "outputId": "389540f1-e26f-48b1-cb8d-6fe4a6b2831f"
      },
      "execution_count": null,
      "outputs": [
        {
          "output_type": "stream",
          "name": "stdout",
          "text": [
            "[1, 3, 5]\n"
          ]
        }
      ]
    },
    {
      "cell_type": "code",
      "source": [
        "message = \"Programming\"\n",
        "result = \"\"\n",
        "i = 0\n",
        "while i < len(message):\n",
        "    if message[i] in 'aeiouAEIOU':\n",
        "         i += 1 # Skip next char if vowel. I fixed the error that was jumping two letters instead of one.\n",
        "         continue\n",
        "    result += message[i]\n",
        "    i += 1\n",
        "print(result)"
      ],
      "metadata": {
        "colab": {
          "base_uri": "https://localhost:8080/"
        },
        "id": "Z2T3aGQ8inFa",
        "outputId": "157b0e98-bd1e-404f-caf2-ae6fa5727dbf"
      },
      "execution_count": null,
      "outputs": [
        {
          "output_type": "stream",
          "name": "stdout",
          "text": [
            "Prgrmmng\n"
          ]
        }
      ]
    },
    {
      "cell_type": "code",
      "source": [
        "message = \"Programming\"\n",
        "\n",
        "print(message[-1])"
      ],
      "metadata": {
        "colab": {
          "base_uri": "https://localhost:8080/"
        },
        "id": "_MIGxdbdkNdz",
        "outputId": "d2843a54-94e3-452b-d339-410415d8ad4b"
      },
      "execution_count": null,
      "outputs": [
        {
          "output_type": "stream",
          "name": "stdout",
          "text": [
            "g\n"
          ]
        }
      ]
    },
    {
      "cell_type": "markdown",
      "source": [
        "##### 1- Sum of List Elements: Write a Python function sum_list_numbers(items) that takes a list items which may contain integers and floats. The function should iterate through the list and return the sum of all the numeric elements (int or float). Ignore any non-numeric elements (like strings) found in the list. (10 Marks)\n",
        "#####Example: sum_list_numbers([1, 2.5, \"hello\", 3, \"world\", 4.0]) should return 10.5."
      ],
      "metadata": {
        "id": "5jHh7UEBnnik"
      }
    },
    {
      "cell_type": "code",
      "source": [
        "def sum_list_numbers(items):\n",
        "  sum_of_numbers = 0\n",
        "  for item in items:\n",
        "    if type(item)==str:\n",
        "      continue\n",
        "    sum_of_numbers += item\n",
        "  return sum_of_numbers\n",
        "\n",
        "\n",
        "\n",
        "print(sum_list_numbers([1, 2, \"hello\", 11.015, \"world\", 4, 200]))\n",
        "\n"
      ],
      "metadata": {
        "colab": {
          "base_uri": "https://localhost:8080/"
        },
        "id": "-ECO094Rnvwx",
        "outputId": "1d5f2acc-af92-45cc-ff42-8059b1069b32"
      },
      "execution_count": 2,
      "outputs": [
        {
          "output_type": "stream",
          "name": "stdout",
          "text": [
            "218.015\n"
          ]
        }
      ]
    }
  ]
}