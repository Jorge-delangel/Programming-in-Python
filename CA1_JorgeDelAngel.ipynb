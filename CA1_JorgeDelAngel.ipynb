{
  "nbformat": 4,
  "nbformat_minor": 0,
  "metadata": {
    "colab": {
      "provenance": [],
      "authorship_tag": "ABX9TyMoAtPV8YoryZaKjsmo+WSi",
      "include_colab_link": true
    },
    "kernelspec": {
      "name": "python3",
      "display_name": "Python 3"
    },
    "language_info": {
      "name": "python"
    }
  },
  "cells": [
    {
      "cell_type": "markdown",
      "metadata": {
        "id": "view-in-github",
        "colab_type": "text"
      },
      "source": [
        "<a href=\"https://colab.research.google.com/github/Jorge-delangel/Programming-in-Python/blob/main/CA1_JorgeDelAngel.ipynb\" target=\"_parent\"><img src=\"https://colab.research.google.com/assets/colab-badge.svg\" alt=\"Open In Colab\"/></a>"
      ]
    },
    {
      "cell_type": "markdown",
      "source": [
        "---\n",
        "\n",
        "**Section A: Multiple Choice & Short Answer Questions (20 Marks)**\n",
        "\n",
        "**(Answer all questions. 10 questions x 2 marks each)**\n",
        "\n",
        "1.  What is the output of `print(15 % 4)`?\n",
        "    a) 3.75\n",
        "    b) 3\n",
        "    c) 4\n",
        "    d) 0"
      ],
      "metadata": {
        "id": "q-MCUSrw97CY"
      }
    },
    {
      "cell_type": "code",
      "execution_count": 1,
      "metadata": {
        "colab": {
          "base_uri": "https://localhost:8080/"
        },
        "id": "vdYdM_qs9yYu",
        "outputId": "61da2d77-6b07-414f-a7dc-448a25eb9f0c"
      },
      "outputs": [
        {
          "output_type": "stream",
          "name": "stdout",
          "text": [
            "3\n"
          ]
        }
      ],
      "source": [
        "print(15 % 4) # B)"
      ]
    },
    {
      "cell_type": "code",
      "source": [],
      "metadata": {
        "id": "eCBOKeWzCww7"
      },
      "execution_count": null,
      "outputs": []
    },
    {
      "cell_type": "markdown",
      "source": [
        "2.  Which statement about Python lists is TRUE?\n",
        "    a) Lists are immutable.\n",
        "    b) Lists can only store elements of the same data type.\n",
        "    c) List elements are accessed using keys.\n",
        "    d) Lists are ordered collections and allow duplicate elements."
      ],
      "metadata": {
        "id": "p9VrYTj_-FKR"
      }
    },
    {
      "cell_type": "code",
      "source": [
        "# D)"
      ],
      "metadata": {
        "id": "vQH4d0BV-Hx3"
      },
      "execution_count": null,
      "outputs": []
    },
    {
      "cell_type": "markdown",
      "source": [
        "3.  What is the result of the boolean expression `(10 < 5) or not (5 == 5)`?\n",
        "    a) True\n",
        "    b) False\n",
        "    c) Error\n",
        "    d) None"
      ],
      "metadata": {
        "id": "kIACv41g-G7c"
      }
    },
    {
      "cell_type": "code",
      "source": [
        "# B)"
      ],
      "metadata": {
        "id": "W9uRQ0YJ_OCe"
      },
      "execution_count": null,
      "outputs": []
    },
    {
      "cell_type": "markdown",
      "source": [
        "4.  What is the output of the following code?\n",
        "    ```python\n",
        "    my_string = \"abcdef\"\n",
        "    print(my_string[-3:])\n",
        "    ```\n",
        "    a) `abc`\n",
        "    b) `def`\n",
        "    c) `cde`\n",
        "    d) `bcd`"
      ],
      "metadata": {
        "id": "mMs85Mgs_p2G"
      }
    },
    {
      "cell_type": "code",
      "source": [
        "my_string = \"abcdef\"\n",
        "print(my_string[-3:]) # B)"
      ],
      "metadata": {
        "colab": {
          "base_uri": "https://localhost:8080/"
        },
        "id": "wTFNZdxf_vb7",
        "outputId": "de1c09f6-92d0-4a1f-e50f-0f615b169a88"
      },
      "execution_count": 2,
      "outputs": [
        {
          "output_type": "stream",
          "name": "stdout",
          "text": [
            "def\n"
          ]
        }
      ]
    },
    {
      "cell_type": "markdown",
      "source": [
        "5.  When calling a function `calculate(a, b)`, what are `a` and `b` referred to within the function's definition `def calculate(x, y):`?\n",
        "    a) Arguments\n",
        "    b) Parameters (or Formal Parameters)\n",
        "    c) Variables\n",
        "    d) Keywords"
      ],
      "metadata": {
        "id": "9t2t5789ADNx"
      }
    },
    {
      "cell_type": "code",
      "source": [
        "# A)"
      ],
      "metadata": {
        "id": "d9CnH2PNAGJl"
      },
      "execution_count": null,
      "outputs": []
    },
    {
      "cell_type": "markdown",
      "source": [
        "6.  What does the `continue` keyword do inside a loop?\n",
        "    a) Exits the loop entirely.\n",
        "    b) Skips the rest of the current iteration and proceeds to the next one.\n",
        "    c) Raises an error.\n",
        "    d) Pauses the loop indefinitely."
      ],
      "metadata": {
        "id": "JDtLBW5rAcpJ"
      }
    },
    {
      "cell_type": "code",
      "source": [
        "# B)"
      ],
      "metadata": {
        "id": "F4IvBg6FAhZ4"
      },
      "execution_count": null,
      "outputs": []
    },
    {
      "cell_type": "markdown",
      "source": [
        "7.  How do you insert the number `100` at index `2` in a list called `data`?\n",
        "    a) `data.append(2, 100)`\n",
        "    b) `data.add(2, 100)`\n",
        "    c) `data.insert(2, 100)`\n",
        "    d) `data[2] = 100` (This replaces, not inserts)"
      ],
      "metadata": {
        "id": "fLOZI85iAsqr"
      }
    },
    {
      "cell_type": "code",
      "source": [
        "# C)"
      ],
      "metadata": {
        "id": "Lh0lYiJTAvw8"
      },
      "execution_count": 4,
      "outputs": []
    },
    {
      "cell_type": "markdown",
      "source": [
        "8.  What will `print(\"Python is fun\".startswith(\"python\"))` output?\n",
        "    a) True\n",
        "    b) False\n",
        "    c) 0\n",
        "    d) 1"
      ],
      "metadata": {
        "id": "EyTZ3MNiBLRo"
      }
    },
    {
      "cell_type": "code",
      "source": [
        "# B)"
      ],
      "metadata": {
        "colab": {
          "base_uri": "https://localhost:8080/"
        },
        "id": "h5bRobrxBQj8",
        "outputId": "f9e94780-8d5b-4dd8-cce7-387cb24e4522"
      },
      "execution_count": 5,
      "outputs": [
        {
          "output_type": "stream",
          "name": "stdout",
          "text": [
            "False\n"
          ]
        }
      ]
    },
    {
      "cell_type": "markdown",
      "source": [
        "9.  Briefly explain the difference between the `break` and `continue` statements within a loop. (2 Marks)\n",
        "    *   *Answer area:* Break ends the loop definitely while Continue skips the rest of the interation and proceeds to the next one."
      ],
      "metadata": {
        "id": "jjFBRTvkBcb7"
      }
    },
    {
      "cell_type": "markdown",
      "source": [
        "10. What is the output of the following code snippet?\n",
        "    ```python\n",
        "    x = 5\n",
        "    result = 1\n",
        "    while x > 1:\n",
        "        result *= x # result = result * x\n",
        "        x -= 2 # x = x - 2\n",
        "    print(result)\n",
        "    ```\n",
        "    a) 120\n",
        "    b) 20\n",
        "    c) 15\n",
        "    d) 5"
      ],
      "metadata": {
        "id": "Mv4J8DrhB-6n"
      }
    },
    {
      "cell_type": "code",
      "source": [
        "# C)"
      ],
      "metadata": {
        "colab": {
          "base_uri": "https://localhost:8080/"
        },
        "id": "THOcMl6kBf8N",
        "outputId": "4bb46455-cdf7-4759-b0a9-13c0cf1e260d"
      },
      "execution_count": 6,
      "outputs": [
        {
          "output_type": "stream",
          "name": "stdout",
          "text": [
            "15\n"
          ]
        }
      ]
    },
    {
      "cell_type": "markdown",
      "source": [
        "---\n",
        "\n",
        "**Section B: Code Comprehension & Debugging (20 Marks)**\n",
        "\n",
        "1.  **Predict the Output:** What will the following code print? Explain the flow briefly. (6 Marks)\n",
        "    function isinstance(item, data_type) checks if item belongs to the mentioned data_type or not and returns true or false   boolean value."
      ],
      "metadata": {
        "id": "ql4lPdmlCV2i"
      }
    },
    {
      "cell_type": "code",
      "source": [
        "def update_list(items):\n",
        "    processed = [] # Create an emty list\n",
        "    for item in items: # Iterate through the values or arguments\n",
        "        if isinstance(item, int): # If the item is a integer\n",
        "            if item % 2 == 0: # This line discriminates between numbers of items that are being divided by 2; their remainder is different from 0\n",
        "                processed.append(item // 2) # Divide by 2 and return a integer\n",
        "            else:\n",
        "                Processed.append(item + 1) # Add 1 to the numbers who did not were proceeced previously.\n",
        "        elif isinstance(item, str): # Take the string items\n",
        "             if len(item) > 3: # If they are longer than 3 chars\n",
        "                 processed.append(item[0:3]) # This adds to the list just the first 3 chars of the item.\n",
        "             else:\n",
        "                 continue # Skip short strings\n",
        "        # Ignore other types\n",
        "    return processed\n",
        "\n",
        "values = [10, \"abc\", 5, \"python\", 3.14, 8, \"is\"]\n",
        "print(update_list(values))"
      ],
      "metadata": {
        "colab": {
          "base_uri": "https://localhost:8080/"
        },
        "id": "8TxYNquyC4X2",
        "outputId": "523fa115-88b2-48eb-8fa8-5d46a6675a52"
      },
      "execution_count": 10,
      "outputs": [
        {
          "output_type": "stream",
          "name": "stdout",
          "text": [
            "[5, 6, 'pyt', 4]\n"
          ]
        }
      ]
    },
    {
      "cell_type": "markdown",
      "source": [
        "2.  **Debugging:** The following function is intended to find the maximum value in a list of numbers. Find and fix the two main logical errors. Assume the list contains at least one number and all elements are numbers (int or float). (8 Marks)"
      ],
      "metadata": {
        "id": "u513jquzIsc8"
      }
    },
    {
      "cell_type": "code",
      "source": [
        "def find_maximum(numbers):\n",
        "  # Error 1: Potential issue if list contains only negative numbers\n",
        "  max_val = 0\n",
        "  for i in numbers: # Error 2: Comparing index 'i' instead of element numbers[i]\n",
        "     if i > max_val:\n",
        "        max_val = i\n",
        "  return max_val\n",
        "\n",
        "# Example usage (for testing):\n",
        "nums1 = [1, 5, 20.5, 9, 3]\n",
        "print(find_maximum(nums1)) # Should print 9\n",
        "nums2 = [-5, -2, -8, -2]\n",
        "print(find_maximum(nums2)) # Should print -1"
      ],
      "metadata": {
        "colab": {
          "base_uri": "https://localhost:8080/"
        },
        "id": "rMTu10ERI5qF",
        "outputId": "37a75c40-060c-48db-eeac-a4789e184b18"
      },
      "execution_count": 46,
      "outputs": [
        {
          "output_type": "stream",
          "name": "stdout",
          "text": [
            "20.5\n",
            "0\n"
          ]
        }
      ]
    },
    {
      "cell_type": "markdown",
      "source": [
        "3.  **Predict the Output:** What will the following code print? (6 Marks)"
      ],
      "metadata": {
        "id": "_fwpAIjWK0Q-"
      }
    },
    {
      "cell_type": "code",
      "source": [
        "# Answer: Dt_Scnc The programe is adding a _ for every space and it's omitting the consonants as well is transforming every chars to lowercase."
      ],
      "metadata": {
        "id": "g_pcCeHDLUZy"
      },
      "execution_count": null,
      "outputs": []
    },
    {
      "cell_type": "markdown",
      "source": [
        "---\n",
        "\n",
        "**Section C: Short Coding Problems (30 Marks)**\n",
        "\n",
        "1.  **Filter List by Length:** Write a Python function `filter_by_length(strings_list, min_length)` that takes a list of strings `strings_list` and an integer `min_length` as input. The function should return a *new* list containing only the strings from the original list that have a length greater than or equal to `min_length`. (10 Marks)\n",
        "\n",
        "    *   *Example:* `filter_by_length([\"apple\", \" Grapes  \", \"kiwi\", \"banana\"], 5)` should return `['apple', ' Grapes  ', 'banana']`. (Note: Whitespace counts towards length unless stripped).\n",
        "    *   *Example:* `filter_by_length([\"a\", \"b\", \"c\"], 2)` should return `[]`.\n",
        "    *   *Example:* `filter_by_length([], 3)` should return `[]`."
      ],
      "metadata": {
        "id": "RFZBB6ZDMB52"
      }
    },
    {
      "cell_type": "code",
      "source": [
        "def filter_by_length(strings_list, min_length):\n",
        "    new_list = [] # Create a list to containt the elements\n",
        "    for string in strings_list: # Go through the elements in the list\n",
        "        if len(string) >= min_length: # If they are longer than the min_legth\n",
        "            new_list.append(string) # This one is added to the new_list\n",
        "    return new_list # return the new_list\n",
        "\n",
        "filter_by_length([\"apple\", \" Grapes \", \"kiwi\", \"banana\"], 4)"
      ],
      "metadata": {
        "colab": {
          "base_uri": "https://localhost:8080/"
        },
        "id": "el4NvzuJMDJ5",
        "outputId": "da690411-8eaf-46ca-dbe1-c8a8f0e7452e"
      },
      "execution_count": 50,
      "outputs": [
        {
          "output_type": "execute_result",
          "data": {
            "text/plain": [
              "['apple', ' Grapes ', 'kiwi', 'banana']"
            ]
          },
          "metadata": {},
          "execution_count": 50
        }
      ]
    },
    {
      "cell_type": "markdown",
      "source": [
        "2.  **Character Counter:** Write a Python function `count_char_occurrences(text, char_to_count)` that takes a string `text` and a single character `char_to_count` as input. The function should return the number of times `char_to_count` appears in the `text`, ignoring case (i.e., count both uppercase and lowercase occurrences of the character). (10 Marks)\n",
        "\n",
        "    *   *Example:* `count_char_occurrences(\"Programming is Fun\", 'g')` should return `2`.\n",
        "    *   *Example:* `count_char_occurrences(\"Hello World\", 'L')` should return `3`.\n",
        "    *   *Example:* `count_char_occurrences(\"Python\", 'z')` should return `0`."
      ],
      "metadata": {
        "id": "m_KEciQuM6kW"
      }
    },
    {
      "cell_type": "code",
      "source": [
        "def count_char_occurrences(text, char_to_count):\n",
        "    count = 0 # Create a counter\n",
        "    text = text.lower() # Transform the text to lowercase\n",
        "    char_to_count = char_to_count.lower() # Transform the char_to_count to lowercase\n",
        "\n",
        "    for char in text: # Iterates through each char in the text\n",
        "      if char in char_to_count: # If char is in the char_to_count\n",
        "        count += 1 # 1 is added to the count variable\n",
        "    return count\n",
        "\n",
        "count_char_occurrences(\"Hello World\", 'L')"
      ],
      "metadata": {
        "colab": {
          "base_uri": "https://localhost:8080/"
        },
        "id": "dAHsVmcbM_e4",
        "outputId": "6ec7f5e3-565c-45d5-dd4e-837914ffc07b"
      },
      "execution_count": 54,
      "outputs": [
        {
          "output_type": "execute_result",
          "data": {
            "text/plain": [
              "3"
            ]
          },
          "metadata": {},
          "execution_count": 54
        }
      ]
    },
    {
      "cell_type": "markdown",
      "source": [
        "3.  **Palindrome Check:** Write a Python function `is_palindrome(text)` that takes a string `text` as input. The function should return `True` if the `text` is a palindrome and `False` otherwise. A string is a palindrome if it reads the same forwards and backwards. The comparison should be **case-insensitive**, and **spaces should be ignored**. (10 Marks)\n",
        "\n",
        "    *   *Example:* `is_palindrome(\"Racecar\")` should return `True`.\n",
        "    *   *Example:* `is_palindrome(\"A man a plan a canal Panama\")` should return `True`.\n",
        "    *   *Example:* `is_palindrome(\"hello\")` should return `False`.\n",
        "    *   *Example:* `is_palindrome(\"\")` should return `True` (an empty string reads the same forwards and backwards).\n",
        "    *   *Example:* `is_palindrome(\"a\")` should return `True`.\n",
        "    *   *Hint:* You might want to process the string first (lowercase, remove spaces) before checking if it equals its reverse."
      ],
      "metadata": {
        "id": "kgmUaBRrN7Ik"
      }
    },
    {
      "cell_type": "code",
      "source": [
        "def is_palindrome(text):\n",
        "  text = text.lower()\n",
        "  text = text.replace(\" \", \"\")\n",
        "  return text == text[ : :-1]\n",
        "\n",
        "is_palindrome(\"A man a plan a canal Panama\")\n"
      ],
      "metadata": {
        "colab": {
          "base_uri": "https://localhost:8080/"
        },
        "id": "WIXERZYLPotv",
        "outputId": "3dc8665b-6bf8-4a5e-b001-59876c2f8b54"
      },
      "execution_count": 74,
      "outputs": [
        {
          "output_type": "execute_result",
          "data": {
            "text/plain": [
              "True"
            ]
          },
          "metadata": {},
          "execution_count": 74
        }
      ]
    },
    {
      "cell_type": "markdown",
      "source": [
        "---\n",
        "\n",
        "**Section D: Longer Programming Problems (30 Marks)**\n",
        "\n",
        "  1.  **File Number Aggregator:**\n",
        "    You have a text file named `numbers.txt`. Each line in the file is intended to contain a single number (integer or float), but some lines might be empty or contain non-numeric text.\n",
        "    ```\n",
        "    # Example content of numbers.txt\n",
        "    10\n",
        "    25.5\n",
        "    -5\n",
        "\n",
        "    abc\n",
        "    15\n",
        "    42.0\n",
        "    invalid\n",
        "    ```\n",
        "    Write a Python function `aggregate_numbers_from_file(filepath)` that takes the `filepath` (string) of the numbers file as input. The function should:\n",
        "    a.  Read the file line by line.\n",
        "    b.  Handle potential `FileNotFoundError`. If the file is not found, print \"Error: File not found.\" and return `None`.\n",
        "    c.  For each line, attempt to convert the content to a float.\n",
        "    d.  Use `try-except` to handle `ValueError` if a line cannot be converted to a float (this includes empty lines after stripping). If an error occurs, print a warning \"Warning: Skipping invalid data on line: [line content]\" and skip that line.\n",
        "    e.  Calculate the sum and count of all the *valid* numbers read from the file.\n",
        "    f.  Return a tuple `(total_sum, valid_count)`. If no valid numbers are found (or the file is empty/not found), return `(0.0, 0)`.\n",
        "    (30 Marks)\n",
        "\n",
        "    *   *Example:* If `numbers.txt` contains the data above, `aggregate_numbers_from_file(\"numbers.txt\")` should print warnings for the empty line, \"abc\", and \"invalid\" lines, and return:\n",
        "        `(87.5, 4)` (Sum = 10 + 25.5 - 5 + 15 + 42.0 = 87.5; Count = 5 valid numbers. Wait, the example shows 4 valid numbers after conversion error handling... let's re-evaluate. `10`, `25.5`, `-5`, `15`, `42.0` seem valid. Sum = 10+25.5-5+15+42 = 87.5. Count = 5. The example output in the thought process was wrong, corrected here.) -> Corrected Example Output: `(87.5, 5)`"
      ],
      "metadata": {
        "id": "wiVkcqzcTT9L"
      }
    },
    {
      "cell_type": "code",
      "source": [
        "def aggregate_numbers_from_file(numbers):\n",
        "  total_sum = 0\n",
        "  valid_count = 0\n",
        "\n",
        "  for item in numbers:\n",
        "    if isinstance(item, int):\n",
        "      total_sum += item\n",
        "      valid_count += 1\n",
        "    else:\n",
        "      try:\n",
        "        total_sum += float(item)\n",
        "        valid_count += 1\n",
        "      except ValueError:\n",
        "        print(f\"Warning: Skipping invalid data on line: {item}\")\n",
        "      continue\n",
        "  return (total_sum, valid_count)\n",
        "\n",
        "numbers = [10, 25.5, -5, \" \", \"abc\", 15, 42.0, \"invalid\"]\n",
        "\n",
        "\n",
        "aggregate_numbers_from_file(numbers)\n"
      ],
      "metadata": {
        "colab": {
          "base_uri": "https://localhost:8080/"
        },
        "id": "guvS5AAbUYiz",
        "outputId": "3a836ad5-f7f7-4f94-a0d7-0b8ffed5a6a0"
      },
      "execution_count": 94,
      "outputs": [
        {
          "output_type": "stream",
          "name": "stdout",
          "text": [
            "Warning: Skipping invalid data on line:  \n",
            "Warning: Skipping invalid data on line: abc\n",
            "Warning: Skipping invalid data on line: invalid\n"
          ]
        },
        {
          "output_type": "execute_result",
          "data": {
            "text/plain": [
              "(87.5, 5)"
            ]
          },
          "metadata": {},
          "execution_count": 94
        }
      ]
    }
  ]
}